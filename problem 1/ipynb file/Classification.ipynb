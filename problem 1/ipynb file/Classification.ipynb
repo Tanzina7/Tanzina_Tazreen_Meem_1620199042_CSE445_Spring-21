{
 "cells": [
  {
   "cell_type": "code",
   "execution_count": 1,
   "metadata": {},
   "outputs": [],
   "source": [
    "import numpy as np \n",
    "import pandas as pd\n",
    "from sklearn.impute import SimpleImputer\n",
    "import matplotlib.pyplot as plt\n",
    "import seaborn as sns\n",
    "plt.style.use('ggplot')\n",
    "import warnings\n",
    "warnings.filterwarnings('ignore')\n",
    "%matplotlib inline\n",
    "\n",
    "# Regular EDA and plotting libraries\n",
    "import numpy as np # np is short for numpy\n",
    "import pandas as pd # pandas is so commonly used, it's shortened to pd\n",
    "import matplotlib.pyplot as plt\n",
    "import seaborn as sns # seaborn gets shortened to sns\n",
    "\n",
    "# We want our plots to appear in the notebook\n",
    "%matplotlib inline \n",
    "\n",
    "## Models\n",
    "from sklearn.linear_model import LogisticRegression\n",
    "from sklearn.neighbors import KNeighborsClassifier\n",
    "from sklearn.ensemble import RandomForestClassifier\n",
    "\n",
    "## Model evaluators\n",
    "from sklearn.model_selection import train_test_split, cross_val_score\n",
    "from sklearn.model_selection import RandomizedSearchCV, GridSearchCV\n",
    "from sklearn.metrics import confusion_matrix, classification_report\n",
    "from sklearn.metrics import precision_score, recall_score, f1_score\n",
    "from sklearn.metrics import plot_roc_curve"
   ]
  },
  {
   "cell_type": "code",
   "execution_count": 30,
   "metadata": {},
   "outputs": [],
   "source": [
    "audit_risk = pd.read_csv('audit_data/audit_risk.csv')\n",
    "trial = pd.read_csv('audit_data/trial.csv')"
   ]
  },
  {
   "cell_type": "code",
   "execution_count": 32,
   "metadata": {
    "scrolled": true
   },
   "outputs": [
    {
     "data": {
      "text/html": [
       "<div>\n",
       "<style scoped>\n",
       "    .dataframe tbody tr th:only-of-type {\n",
       "        vertical-align: middle;\n",
       "    }\n",
       "\n",
       "    .dataframe tbody tr th {\n",
       "        vertical-align: top;\n",
       "    }\n",
       "\n",
       "    .dataframe thead th {\n",
       "        text-align: right;\n",
       "    }\n",
       "</style>\n",
       "<table border=\"1\" class=\"dataframe\">\n",
       "  <thead>\n",
       "    <tr style=\"text-align: right;\">\n",
       "      <th></th>\n",
       "      <th>Sector_score</th>\n",
       "      <th>LOCATION_ID</th>\n",
       "      <th>PARA_A</th>\n",
       "      <th>Score_A</th>\n",
       "      <th>Risk_A</th>\n",
       "      <th>PARA_B</th>\n",
       "      <th>Score_B</th>\n",
       "      <th>Risk_B</th>\n",
       "      <th>TOTAL</th>\n",
       "      <th>numbers</th>\n",
       "      <th>...</th>\n",
       "      <th>RiSk_E</th>\n",
       "      <th>History</th>\n",
       "      <th>Prob</th>\n",
       "      <th>Risk_F</th>\n",
       "      <th>Score</th>\n",
       "      <th>Inherent_Risk</th>\n",
       "      <th>CONTROL_RISK</th>\n",
       "      <th>Detection_Risk</th>\n",
       "      <th>Audit_Risk</th>\n",
       "      <th>Risk</th>\n",
       "    </tr>\n",
       "  </thead>\n",
       "  <tbody>\n",
       "    <tr>\n",
       "      <th>0</th>\n",
       "      <td>3.89</td>\n",
       "      <td>23</td>\n",
       "      <td>4.18</td>\n",
       "      <td>0.6</td>\n",
       "      <td>2.508</td>\n",
       "      <td>2.50</td>\n",
       "      <td>0.2</td>\n",
       "      <td>0.500</td>\n",
       "      <td>6.68</td>\n",
       "      <td>5.0</td>\n",
       "      <td>...</td>\n",
       "      <td>0.4</td>\n",
       "      <td>0</td>\n",
       "      <td>0.2</td>\n",
       "      <td>0.0</td>\n",
       "      <td>2.4</td>\n",
       "      <td>8.574</td>\n",
       "      <td>0.4</td>\n",
       "      <td>0.5</td>\n",
       "      <td>1.7148</td>\n",
       "      <td>1</td>\n",
       "    </tr>\n",
       "    <tr>\n",
       "      <th>1</th>\n",
       "      <td>3.89</td>\n",
       "      <td>6</td>\n",
       "      <td>0.00</td>\n",
       "      <td>0.2</td>\n",
       "      <td>0.000</td>\n",
       "      <td>4.83</td>\n",
       "      <td>0.2</td>\n",
       "      <td>0.966</td>\n",
       "      <td>4.83</td>\n",
       "      <td>5.0</td>\n",
       "      <td>...</td>\n",
       "      <td>0.4</td>\n",
       "      <td>0</td>\n",
       "      <td>0.2</td>\n",
       "      <td>0.0</td>\n",
       "      <td>2.0</td>\n",
       "      <td>2.554</td>\n",
       "      <td>0.4</td>\n",
       "      <td>0.5</td>\n",
       "      <td>0.5108</td>\n",
       "      <td>0</td>\n",
       "    </tr>\n",
       "    <tr>\n",
       "      <th>2</th>\n",
       "      <td>3.89</td>\n",
       "      <td>6</td>\n",
       "      <td>0.51</td>\n",
       "      <td>0.2</td>\n",
       "      <td>0.102</td>\n",
       "      <td>0.23</td>\n",
       "      <td>0.2</td>\n",
       "      <td>0.046</td>\n",
       "      <td>0.74</td>\n",
       "      <td>5.0</td>\n",
       "      <td>...</td>\n",
       "      <td>0.4</td>\n",
       "      <td>0</td>\n",
       "      <td>0.2</td>\n",
       "      <td>0.0</td>\n",
       "      <td>2.0</td>\n",
       "      <td>1.548</td>\n",
       "      <td>0.4</td>\n",
       "      <td>0.5</td>\n",
       "      <td>0.3096</td>\n",
       "      <td>0</td>\n",
       "    </tr>\n",
       "    <tr>\n",
       "      <th>3</th>\n",
       "      <td>3.89</td>\n",
       "      <td>6</td>\n",
       "      <td>0.00</td>\n",
       "      <td>0.2</td>\n",
       "      <td>0.000</td>\n",
       "      <td>10.80</td>\n",
       "      <td>0.6</td>\n",
       "      <td>6.480</td>\n",
       "      <td>10.80</td>\n",
       "      <td>6.0</td>\n",
       "      <td>...</td>\n",
       "      <td>0.4</td>\n",
       "      <td>0</td>\n",
       "      <td>0.2</td>\n",
       "      <td>0.0</td>\n",
       "      <td>4.4</td>\n",
       "      <td>17.530</td>\n",
       "      <td>0.4</td>\n",
       "      <td>0.5</td>\n",
       "      <td>3.5060</td>\n",
       "      <td>1</td>\n",
       "    </tr>\n",
       "    <tr>\n",
       "      <th>4</th>\n",
       "      <td>3.89</td>\n",
       "      <td>6</td>\n",
       "      <td>0.00</td>\n",
       "      <td>0.2</td>\n",
       "      <td>0.000</td>\n",
       "      <td>0.08</td>\n",
       "      <td>0.2</td>\n",
       "      <td>0.016</td>\n",
       "      <td>0.08</td>\n",
       "      <td>5.0</td>\n",
       "      <td>...</td>\n",
       "      <td>0.4</td>\n",
       "      <td>0</td>\n",
       "      <td>0.2</td>\n",
       "      <td>0.0</td>\n",
       "      <td>2.0</td>\n",
       "      <td>1.416</td>\n",
       "      <td>0.4</td>\n",
       "      <td>0.5</td>\n",
       "      <td>0.2832</td>\n",
       "      <td>0</td>\n",
       "    </tr>\n",
       "  </tbody>\n",
       "</table>\n",
       "<p>5 rows × 27 columns</p>\n",
       "</div>"
      ],
      "text/plain": [
       "   Sector_score LOCATION_ID  PARA_A  Score_A  Risk_A  PARA_B  Score_B  Risk_B  \\\n",
       "0          3.89          23    4.18      0.6   2.508    2.50      0.2   0.500   \n",
       "1          3.89           6    0.00      0.2   0.000    4.83      0.2   0.966   \n",
       "2          3.89           6    0.51      0.2   0.102    0.23      0.2   0.046   \n",
       "3          3.89           6    0.00      0.2   0.000   10.80      0.6   6.480   \n",
       "4          3.89           6    0.00      0.2   0.000    0.08      0.2   0.016   \n",
       "\n",
       "   TOTAL  numbers  ...  RiSk_E  History  Prob  Risk_F  Score  Inherent_Risk  \\\n",
       "0   6.68      5.0  ...     0.4        0   0.2     0.0    2.4          8.574   \n",
       "1   4.83      5.0  ...     0.4        0   0.2     0.0    2.0          2.554   \n",
       "2   0.74      5.0  ...     0.4        0   0.2     0.0    2.0          1.548   \n",
       "3  10.80      6.0  ...     0.4        0   0.2     0.0    4.4         17.530   \n",
       "4   0.08      5.0  ...     0.4        0   0.2     0.0    2.0          1.416   \n",
       "\n",
       "   CONTROL_RISK  Detection_Risk  Audit_Risk  Risk  \n",
       "0           0.4             0.5      1.7148     1  \n",
       "1           0.4             0.5      0.5108     0  \n",
       "2           0.4             0.5      0.3096     0  \n",
       "3           0.4             0.5      3.5060     1  \n",
       "4           0.4             0.5      0.2832     0  \n",
       "\n",
       "[5 rows x 27 columns]"
      ]
     },
     "execution_count": 32,
     "metadata": {},
     "output_type": "execute_result"
    }
   ],
   "source": [
    "audit_risk.head()"
   ]
  },
  {
   "cell_type": "code",
   "execution_count": 31,
   "metadata": {},
   "outputs": [
    {
     "data": {
      "text/html": [
       "<div>\n",
       "<style scoped>\n",
       "    .dataframe tbody tr th:only-of-type {\n",
       "        vertical-align: middle;\n",
       "    }\n",
       "\n",
       "    .dataframe tbody tr th {\n",
       "        vertical-align: top;\n",
       "    }\n",
       "\n",
       "    .dataframe thead th {\n",
       "        text-align: right;\n",
       "    }\n",
       "</style>\n",
       "<table border=\"1\" class=\"dataframe\">\n",
       "  <thead>\n",
       "    <tr style=\"text-align: right;\">\n",
       "      <th></th>\n",
       "      <th>Sector_score</th>\n",
       "      <th>LOCATION_ID</th>\n",
       "      <th>PARA_A</th>\n",
       "      <th>SCORE_A</th>\n",
       "      <th>PARA_B</th>\n",
       "      <th>SCORE_B</th>\n",
       "      <th>TOTAL</th>\n",
       "      <th>numbers</th>\n",
       "      <th>Marks</th>\n",
       "      <th>Money_Value</th>\n",
       "      <th>MONEY_Marks</th>\n",
       "      <th>District</th>\n",
       "      <th>Loss</th>\n",
       "      <th>LOSS_SCORE</th>\n",
       "      <th>History</th>\n",
       "      <th>History_score</th>\n",
       "      <th>Score</th>\n",
       "      <th>Risk</th>\n",
       "    </tr>\n",
       "  </thead>\n",
       "  <tbody>\n",
       "    <tr>\n",
       "      <th>0</th>\n",
       "      <td>3.89</td>\n",
       "      <td>23</td>\n",
       "      <td>4.18</td>\n",
       "      <td>6</td>\n",
       "      <td>2.50</td>\n",
       "      <td>2</td>\n",
       "      <td>6.68</td>\n",
       "      <td>5.0</td>\n",
       "      <td>2</td>\n",
       "      <td>3.38</td>\n",
       "      <td>2</td>\n",
       "      <td>2</td>\n",
       "      <td>0</td>\n",
       "      <td>2</td>\n",
       "      <td>0</td>\n",
       "      <td>2</td>\n",
       "      <td>2.4</td>\n",
       "      <td>1</td>\n",
       "    </tr>\n",
       "    <tr>\n",
       "      <th>1</th>\n",
       "      <td>3.89</td>\n",
       "      <td>6</td>\n",
       "      <td>0.00</td>\n",
       "      <td>2</td>\n",
       "      <td>4.83</td>\n",
       "      <td>2</td>\n",
       "      <td>4.83</td>\n",
       "      <td>5.0</td>\n",
       "      <td>2</td>\n",
       "      <td>0.94</td>\n",
       "      <td>2</td>\n",
       "      <td>2</td>\n",
       "      <td>0</td>\n",
       "      <td>2</td>\n",
       "      <td>0</td>\n",
       "      <td>2</td>\n",
       "      <td>2.0</td>\n",
       "      <td>0</td>\n",
       "    </tr>\n",
       "    <tr>\n",
       "      <th>2</th>\n",
       "      <td>3.89</td>\n",
       "      <td>6</td>\n",
       "      <td>0.51</td>\n",
       "      <td>2</td>\n",
       "      <td>0.23</td>\n",
       "      <td>2</td>\n",
       "      <td>0.74</td>\n",
       "      <td>5.0</td>\n",
       "      <td>2</td>\n",
       "      <td>0.00</td>\n",
       "      <td>2</td>\n",
       "      <td>2</td>\n",
       "      <td>0</td>\n",
       "      <td>2</td>\n",
       "      <td>0</td>\n",
       "      <td>2</td>\n",
       "      <td>2.0</td>\n",
       "      <td>0</td>\n",
       "    </tr>\n",
       "    <tr>\n",
       "      <th>3</th>\n",
       "      <td>3.89</td>\n",
       "      <td>6</td>\n",
       "      <td>0.00</td>\n",
       "      <td>2</td>\n",
       "      <td>10.80</td>\n",
       "      <td>6</td>\n",
       "      <td>10.80</td>\n",
       "      <td>6.0</td>\n",
       "      <td>6</td>\n",
       "      <td>11.75</td>\n",
       "      <td>6</td>\n",
       "      <td>2</td>\n",
       "      <td>0</td>\n",
       "      <td>2</td>\n",
       "      <td>0</td>\n",
       "      <td>2</td>\n",
       "      <td>4.4</td>\n",
       "      <td>1</td>\n",
       "    </tr>\n",
       "    <tr>\n",
       "      <th>4</th>\n",
       "      <td>3.89</td>\n",
       "      <td>6</td>\n",
       "      <td>0.00</td>\n",
       "      <td>2</td>\n",
       "      <td>0.08</td>\n",
       "      <td>2</td>\n",
       "      <td>0.08</td>\n",
       "      <td>5.0</td>\n",
       "      <td>2</td>\n",
       "      <td>0.00</td>\n",
       "      <td>2</td>\n",
       "      <td>2</td>\n",
       "      <td>0</td>\n",
       "      <td>2</td>\n",
       "      <td>0</td>\n",
       "      <td>2</td>\n",
       "      <td>2.0</td>\n",
       "      <td>0</td>\n",
       "    </tr>\n",
       "  </tbody>\n",
       "</table>\n",
       "</div>"
      ],
      "text/plain": [
       "   Sector_score LOCATION_ID  PARA_A  SCORE_A  PARA_B  SCORE_B  TOTAL  numbers  \\\n",
       "0          3.89          23    4.18        6    2.50        2   6.68      5.0   \n",
       "1          3.89           6    0.00        2    4.83        2   4.83      5.0   \n",
       "2          3.89           6    0.51        2    0.23        2   0.74      5.0   \n",
       "3          3.89           6    0.00        2   10.80        6  10.80      6.0   \n",
       "4          3.89           6    0.00        2    0.08        2   0.08      5.0   \n",
       "\n",
       "   Marks  Money_Value  MONEY_Marks  District  Loss  LOSS_SCORE  History  \\\n",
       "0      2         3.38            2         2     0           2        0   \n",
       "1      2         0.94            2         2     0           2        0   \n",
       "2      2         0.00            2         2     0           2        0   \n",
       "3      6        11.75            6         2     0           2        0   \n",
       "4      2         0.00            2         2     0           2        0   \n",
       "\n",
       "   History_score  Score  Risk  \n",
       "0              2    2.4     1  \n",
       "1              2    2.0     0  \n",
       "2              2    2.0     0  \n",
       "3              2    4.4     1  \n",
       "4              2    2.0     0  "
      ]
     },
     "execution_count": 31,
     "metadata": {},
     "output_type": "execute_result"
    }
   ],
   "source": [
    "trial.head()"
   ]
  },
  {
   "cell_type": "code",
   "execution_count": 33,
   "metadata": {
    "scrolled": true
   },
   "outputs": [
    {
     "data": {
      "text/plain": [
       "(776, 27)"
      ]
     },
     "execution_count": 33,
     "metadata": {},
     "output_type": "execute_result"
    }
   ],
   "source": [
    "audit_risk.shape"
   ]
  },
  {
   "cell_type": "code",
   "execution_count": 34,
   "metadata": {
    "scrolled": true
   },
   "outputs": [
    {
     "data": {
      "text/plain": [
       "(776, 18)"
      ]
     },
     "execution_count": 34,
     "metadata": {},
     "output_type": "execute_result"
    }
   ],
   "source": [
    "trial.shape"
   ]
  },
  {
   "cell_type": "code",
   "execution_count": 35,
   "metadata": {
    "scrolled": false
   },
   "outputs": [
    {
     "data": {
      "text/html": [
       "<div>\n",
       "<style scoped>\n",
       "    .dataframe tbody tr th:only-of-type {\n",
       "        vertical-align: middle;\n",
       "    }\n",
       "\n",
       "    .dataframe tbody tr th {\n",
       "        vertical-align: top;\n",
       "    }\n",
       "\n",
       "    .dataframe thead th {\n",
       "        text-align: right;\n",
       "    }\n",
       "</style>\n",
       "<table border=\"1\" class=\"dataframe\">\n",
       "  <thead>\n",
       "    <tr style=\"text-align: right;\">\n",
       "      <th></th>\n",
       "      <th>Sector_score</th>\n",
       "      <th>PARA_A</th>\n",
       "      <th>Score_A</th>\n",
       "      <th>Risk_A</th>\n",
       "      <th>PARA_B</th>\n",
       "      <th>Score_B</th>\n",
       "      <th>Risk_B</th>\n",
       "      <th>TOTAL</th>\n",
       "      <th>numbers</th>\n",
       "      <th>Score_B.1</th>\n",
       "      <th>...</th>\n",
       "      <th>RiSk_E</th>\n",
       "      <th>History</th>\n",
       "      <th>Prob</th>\n",
       "      <th>Risk_F</th>\n",
       "      <th>Score</th>\n",
       "      <th>Inherent_Risk</th>\n",
       "      <th>CONTROL_RISK</th>\n",
       "      <th>Detection_Risk</th>\n",
       "      <th>Audit_Risk</th>\n",
       "      <th>Risk</th>\n",
       "    </tr>\n",
       "  </thead>\n",
       "  <tbody>\n",
       "    <tr>\n",
       "      <th>count</th>\n",
       "      <td>776.000000</td>\n",
       "      <td>776.000000</td>\n",
       "      <td>776.000000</td>\n",
       "      <td>776.000000</td>\n",
       "      <td>776.000000</td>\n",
       "      <td>776.000000</td>\n",
       "      <td>776.000000</td>\n",
       "      <td>776.000000</td>\n",
       "      <td>776.000000</td>\n",
       "      <td>776.000000</td>\n",
       "      <td>...</td>\n",
       "      <td>776.000000</td>\n",
       "      <td>776.000000</td>\n",
       "      <td>776.000000</td>\n",
       "      <td>776.000000</td>\n",
       "      <td>776.000000</td>\n",
       "      <td>776.000000</td>\n",
       "      <td>776.000000</td>\n",
       "      <td>776.0</td>\n",
       "      <td>776.000000</td>\n",
       "      <td>776.000000</td>\n",
       "    </tr>\n",
       "    <tr>\n",
       "      <th>mean</th>\n",
       "      <td>20.184536</td>\n",
       "      <td>2.450194</td>\n",
       "      <td>0.351289</td>\n",
       "      <td>1.351029</td>\n",
       "      <td>10.799988</td>\n",
       "      <td>0.313144</td>\n",
       "      <td>6.334008</td>\n",
       "      <td>13.218481</td>\n",
       "      <td>5.067655</td>\n",
       "      <td>0.223711</td>\n",
       "      <td>...</td>\n",
       "      <td>0.519072</td>\n",
       "      <td>0.104381</td>\n",
       "      <td>0.216753</td>\n",
       "      <td>0.053608</td>\n",
       "      <td>2.702577</td>\n",
       "      <td>17.680612</td>\n",
       "      <td>0.572680</td>\n",
       "      <td>0.5</td>\n",
       "      <td>7.168158</td>\n",
       "      <td>0.393041</td>\n",
       "    </tr>\n",
       "    <tr>\n",
       "      <th>std</th>\n",
       "      <td>24.319017</td>\n",
       "      <td>5.678870</td>\n",
       "      <td>0.174055</td>\n",
       "      <td>3.440447</td>\n",
       "      <td>50.083624</td>\n",
       "      <td>0.169804</td>\n",
       "      <td>30.072845</td>\n",
       "      <td>51.312829</td>\n",
       "      <td>0.264449</td>\n",
       "      <td>0.080352</td>\n",
       "      <td>...</td>\n",
       "      <td>0.290312</td>\n",
       "      <td>0.531031</td>\n",
       "      <td>0.067987</td>\n",
       "      <td>0.305835</td>\n",
       "      <td>0.858923</td>\n",
       "      <td>54.740244</td>\n",
       "      <td>0.444581</td>\n",
       "      <td>0.0</td>\n",
       "      <td>38.667494</td>\n",
       "      <td>0.488741</td>\n",
       "    </tr>\n",
       "    <tr>\n",
       "      <th>min</th>\n",
       "      <td>1.850000</td>\n",
       "      <td>0.000000</td>\n",
       "      <td>0.200000</td>\n",
       "      <td>0.000000</td>\n",
       "      <td>0.000000</td>\n",
       "      <td>0.200000</td>\n",
       "      <td>0.000000</td>\n",
       "      <td>0.000000</td>\n",
       "      <td>5.000000</td>\n",
       "      <td>0.200000</td>\n",
       "      <td>...</td>\n",
       "      <td>0.400000</td>\n",
       "      <td>0.000000</td>\n",
       "      <td>0.200000</td>\n",
       "      <td>0.000000</td>\n",
       "      <td>2.000000</td>\n",
       "      <td>1.400000</td>\n",
       "      <td>0.400000</td>\n",
       "      <td>0.5</td>\n",
       "      <td>0.280000</td>\n",
       "      <td>0.000000</td>\n",
       "    </tr>\n",
       "    <tr>\n",
       "      <th>25%</th>\n",
       "      <td>2.370000</td>\n",
       "      <td>0.210000</td>\n",
       "      <td>0.200000</td>\n",
       "      <td>0.042000</td>\n",
       "      <td>0.000000</td>\n",
       "      <td>0.200000</td>\n",
       "      <td>0.000000</td>\n",
       "      <td>0.537500</td>\n",
       "      <td>5.000000</td>\n",
       "      <td>0.200000</td>\n",
       "      <td>...</td>\n",
       "      <td>0.400000</td>\n",
       "      <td>0.000000</td>\n",
       "      <td>0.200000</td>\n",
       "      <td>0.000000</td>\n",
       "      <td>2.000000</td>\n",
       "      <td>1.583500</td>\n",
       "      <td>0.400000</td>\n",
       "      <td>0.5</td>\n",
       "      <td>0.316700</td>\n",
       "      <td>0.000000</td>\n",
       "    </tr>\n",
       "    <tr>\n",
       "      <th>50%</th>\n",
       "      <td>3.890000</td>\n",
       "      <td>0.875000</td>\n",
       "      <td>0.200000</td>\n",
       "      <td>0.175000</td>\n",
       "      <td>0.405000</td>\n",
       "      <td>0.200000</td>\n",
       "      <td>0.081000</td>\n",
       "      <td>1.370000</td>\n",
       "      <td>5.000000</td>\n",
       "      <td>0.200000</td>\n",
       "      <td>...</td>\n",
       "      <td>0.400000</td>\n",
       "      <td>0.000000</td>\n",
       "      <td>0.200000</td>\n",
       "      <td>0.000000</td>\n",
       "      <td>2.400000</td>\n",
       "      <td>2.214000</td>\n",
       "      <td>0.400000</td>\n",
       "      <td>0.5</td>\n",
       "      <td>0.555600</td>\n",
       "      <td>0.000000</td>\n",
       "    </tr>\n",
       "    <tr>\n",
       "      <th>75%</th>\n",
       "      <td>55.570000</td>\n",
       "      <td>2.480000</td>\n",
       "      <td>0.600000</td>\n",
       "      <td>1.488000</td>\n",
       "      <td>4.160000</td>\n",
       "      <td>0.400000</td>\n",
       "      <td>1.840500</td>\n",
       "      <td>7.707500</td>\n",
       "      <td>5.000000</td>\n",
       "      <td>0.200000</td>\n",
       "      <td>...</td>\n",
       "      <td>0.400000</td>\n",
       "      <td>0.000000</td>\n",
       "      <td>0.200000</td>\n",
       "      <td>0.000000</td>\n",
       "      <td>3.250000</td>\n",
       "      <td>10.663500</td>\n",
       "      <td>0.400000</td>\n",
       "      <td>0.5</td>\n",
       "      <td>3.249900</td>\n",
       "      <td>1.000000</td>\n",
       "    </tr>\n",
       "    <tr>\n",
       "      <th>max</th>\n",
       "      <td>59.850000</td>\n",
       "      <td>85.000000</td>\n",
       "      <td>0.600000</td>\n",
       "      <td>51.000000</td>\n",
       "      <td>1264.630000</td>\n",
       "      <td>0.600000</td>\n",
       "      <td>758.778000</td>\n",
       "      <td>1268.910000</td>\n",
       "      <td>9.000000</td>\n",
       "      <td>0.600000</td>\n",
       "      <td>...</td>\n",
       "      <td>2.400000</td>\n",
       "      <td>9.000000</td>\n",
       "      <td>0.600000</td>\n",
       "      <td>5.400000</td>\n",
       "      <td>5.200000</td>\n",
       "      <td>801.262000</td>\n",
       "      <td>5.800000</td>\n",
       "      <td>0.5</td>\n",
       "      <td>961.514400</td>\n",
       "      <td>1.000000</td>\n",
       "    </tr>\n",
       "  </tbody>\n",
       "</table>\n",
       "<p>8 rows × 26 columns</p>\n",
       "</div>"
      ],
      "text/plain": [
       "       Sector_score      PARA_A     Score_A      Risk_A       PARA_B  \\\n",
       "count    776.000000  776.000000  776.000000  776.000000   776.000000   \n",
       "mean      20.184536    2.450194    0.351289    1.351029    10.799988   \n",
       "std       24.319017    5.678870    0.174055    3.440447    50.083624   \n",
       "min        1.850000    0.000000    0.200000    0.000000     0.000000   \n",
       "25%        2.370000    0.210000    0.200000    0.042000     0.000000   \n",
       "50%        3.890000    0.875000    0.200000    0.175000     0.405000   \n",
       "75%       55.570000    2.480000    0.600000    1.488000     4.160000   \n",
       "max       59.850000   85.000000    0.600000   51.000000  1264.630000   \n",
       "\n",
       "          Score_B      Risk_B        TOTAL     numbers   Score_B.1  ...  \\\n",
       "count  776.000000  776.000000   776.000000  776.000000  776.000000  ...   \n",
       "mean     0.313144    6.334008    13.218481    5.067655    0.223711  ...   \n",
       "std      0.169804   30.072845    51.312829    0.264449    0.080352  ...   \n",
       "min      0.200000    0.000000     0.000000    5.000000    0.200000  ...   \n",
       "25%      0.200000    0.000000     0.537500    5.000000    0.200000  ...   \n",
       "50%      0.200000    0.081000     1.370000    5.000000    0.200000  ...   \n",
       "75%      0.400000    1.840500     7.707500    5.000000    0.200000  ...   \n",
       "max      0.600000  758.778000  1268.910000    9.000000    0.600000  ...   \n",
       "\n",
       "           RiSk_E     History        Prob      Risk_F       Score  \\\n",
       "count  776.000000  776.000000  776.000000  776.000000  776.000000   \n",
       "mean     0.519072    0.104381    0.216753    0.053608    2.702577   \n",
       "std      0.290312    0.531031    0.067987    0.305835    0.858923   \n",
       "min      0.400000    0.000000    0.200000    0.000000    2.000000   \n",
       "25%      0.400000    0.000000    0.200000    0.000000    2.000000   \n",
       "50%      0.400000    0.000000    0.200000    0.000000    2.400000   \n",
       "75%      0.400000    0.000000    0.200000    0.000000    3.250000   \n",
       "max      2.400000    9.000000    0.600000    5.400000    5.200000   \n",
       "\n",
       "       Inherent_Risk  CONTROL_RISK  Detection_Risk  Audit_Risk        Risk  \n",
       "count     776.000000    776.000000           776.0  776.000000  776.000000  \n",
       "mean       17.680612      0.572680             0.5    7.168158    0.393041  \n",
       "std        54.740244      0.444581             0.0   38.667494    0.488741  \n",
       "min         1.400000      0.400000             0.5    0.280000    0.000000  \n",
       "25%         1.583500      0.400000             0.5    0.316700    0.000000  \n",
       "50%         2.214000      0.400000             0.5    0.555600    0.000000  \n",
       "75%        10.663500      0.400000             0.5    3.249900    1.000000  \n",
       "max       801.262000      5.800000             0.5  961.514400    1.000000  \n",
       "\n",
       "[8 rows x 26 columns]"
      ]
     },
     "execution_count": 35,
     "metadata": {},
     "output_type": "execute_result"
    }
   ],
   "source": [
    "audit_risk.describe()"
   ]
  },
  {
   "cell_type": "code",
   "execution_count": 36,
   "metadata": {
    "scrolled": true
   },
   "outputs": [
    {
     "data": {
      "text/html": [
       "<div>\n",
       "<style scoped>\n",
       "    .dataframe tbody tr th:only-of-type {\n",
       "        vertical-align: middle;\n",
       "    }\n",
       "\n",
       "    .dataframe tbody tr th {\n",
       "        vertical-align: top;\n",
       "    }\n",
       "\n",
       "    .dataframe thead th {\n",
       "        text-align: right;\n",
       "    }\n",
       "</style>\n",
       "<table border=\"1\" class=\"dataframe\">\n",
       "  <thead>\n",
       "    <tr style=\"text-align: right;\">\n",
       "      <th></th>\n",
       "      <th>Sector_score</th>\n",
       "      <th>PARA_A</th>\n",
       "      <th>SCORE_A</th>\n",
       "      <th>PARA_B</th>\n",
       "      <th>SCORE_B</th>\n",
       "      <th>TOTAL</th>\n",
       "      <th>numbers</th>\n",
       "      <th>Marks</th>\n",
       "      <th>Money_Value</th>\n",
       "      <th>MONEY_Marks</th>\n",
       "      <th>District</th>\n",
       "      <th>Loss</th>\n",
       "      <th>LOSS_SCORE</th>\n",
       "      <th>History</th>\n",
       "      <th>History_score</th>\n",
       "      <th>Score</th>\n",
       "      <th>Risk</th>\n",
       "    </tr>\n",
       "  </thead>\n",
       "  <tbody>\n",
       "    <tr>\n",
       "      <th>count</th>\n",
       "      <td>776.000000</td>\n",
       "      <td>776.000000</td>\n",
       "      <td>776.000000</td>\n",
       "      <td>776.000000</td>\n",
       "      <td>776.000000</td>\n",
       "      <td>776.000000</td>\n",
       "      <td>776.000000</td>\n",
       "      <td>776.000000</td>\n",
       "      <td>775.000000</td>\n",
       "      <td>776.000000</td>\n",
       "      <td>776.000000</td>\n",
       "      <td>776.000000</td>\n",
       "      <td>776.000000</td>\n",
       "      <td>776.000000</td>\n",
       "      <td>776.000000</td>\n",
       "      <td>776.000000</td>\n",
       "      <td>776.000000</td>\n",
       "    </tr>\n",
       "    <tr>\n",
       "      <th>mean</th>\n",
       "      <td>20.184536</td>\n",
       "      <td>2.450194</td>\n",
       "      <td>3.512887</td>\n",
       "      <td>10.799988</td>\n",
       "      <td>3.131443</td>\n",
       "      <td>13.218481</td>\n",
       "      <td>5.067655</td>\n",
       "      <td>2.237113</td>\n",
       "      <td>14.137631</td>\n",
       "      <td>2.909794</td>\n",
       "      <td>2.505155</td>\n",
       "      <td>0.029639</td>\n",
       "      <td>2.061856</td>\n",
       "      <td>0.104381</td>\n",
       "      <td>2.167526</td>\n",
       "      <td>2.702577</td>\n",
       "      <td>0.626289</td>\n",
       "    </tr>\n",
       "    <tr>\n",
       "      <th>std</th>\n",
       "      <td>24.319017</td>\n",
       "      <td>5.678870</td>\n",
       "      <td>1.740549</td>\n",
       "      <td>50.083624</td>\n",
       "      <td>1.698042</td>\n",
       "      <td>51.312829</td>\n",
       "      <td>0.264449</td>\n",
       "      <td>0.803517</td>\n",
       "      <td>66.606519</td>\n",
       "      <td>1.597452</td>\n",
       "      <td>1.228678</td>\n",
       "      <td>0.184280</td>\n",
       "      <td>0.375080</td>\n",
       "      <td>0.531031</td>\n",
       "      <td>0.679869</td>\n",
       "      <td>0.858923</td>\n",
       "      <td>0.484100</td>\n",
       "    </tr>\n",
       "    <tr>\n",
       "      <th>min</th>\n",
       "      <td>1.850000</td>\n",
       "      <td>0.000000</td>\n",
       "      <td>2.000000</td>\n",
       "      <td>0.000000</td>\n",
       "      <td>2.000000</td>\n",
       "      <td>0.000000</td>\n",
       "      <td>5.000000</td>\n",
       "      <td>2.000000</td>\n",
       "      <td>0.000000</td>\n",
       "      <td>2.000000</td>\n",
       "      <td>2.000000</td>\n",
       "      <td>0.000000</td>\n",
       "      <td>2.000000</td>\n",
       "      <td>0.000000</td>\n",
       "      <td>2.000000</td>\n",
       "      <td>2.000000</td>\n",
       "      <td>0.000000</td>\n",
       "    </tr>\n",
       "    <tr>\n",
       "      <th>25%</th>\n",
       "      <td>2.370000</td>\n",
       "      <td>0.210000</td>\n",
       "      <td>2.000000</td>\n",
       "      <td>0.000000</td>\n",
       "      <td>2.000000</td>\n",
       "      <td>0.537500</td>\n",
       "      <td>5.000000</td>\n",
       "      <td>2.000000</td>\n",
       "      <td>0.000000</td>\n",
       "      <td>2.000000</td>\n",
       "      <td>2.000000</td>\n",
       "      <td>0.000000</td>\n",
       "      <td>2.000000</td>\n",
       "      <td>0.000000</td>\n",
       "      <td>2.000000</td>\n",
       "      <td>2.000000</td>\n",
       "      <td>0.000000</td>\n",
       "    </tr>\n",
       "    <tr>\n",
       "      <th>50%</th>\n",
       "      <td>3.890000</td>\n",
       "      <td>0.875000</td>\n",
       "      <td>2.000000</td>\n",
       "      <td>0.405000</td>\n",
       "      <td>2.000000</td>\n",
       "      <td>1.370000</td>\n",
       "      <td>5.000000</td>\n",
       "      <td>2.000000</td>\n",
       "      <td>0.090000</td>\n",
       "      <td>2.000000</td>\n",
       "      <td>2.000000</td>\n",
       "      <td>0.000000</td>\n",
       "      <td>2.000000</td>\n",
       "      <td>0.000000</td>\n",
       "      <td>2.000000</td>\n",
       "      <td>2.400000</td>\n",
       "      <td>1.000000</td>\n",
       "    </tr>\n",
       "    <tr>\n",
       "      <th>75%</th>\n",
       "      <td>55.570000</td>\n",
       "      <td>2.480000</td>\n",
       "      <td>6.000000</td>\n",
       "      <td>4.160000</td>\n",
       "      <td>4.000000</td>\n",
       "      <td>7.707500</td>\n",
       "      <td>5.000000</td>\n",
       "      <td>2.000000</td>\n",
       "      <td>5.595000</td>\n",
       "      <td>4.000000</td>\n",
       "      <td>2.000000</td>\n",
       "      <td>0.000000</td>\n",
       "      <td>2.000000</td>\n",
       "      <td>0.000000</td>\n",
       "      <td>2.000000</td>\n",
       "      <td>3.250000</td>\n",
       "      <td>1.000000</td>\n",
       "    </tr>\n",
       "    <tr>\n",
       "      <th>max</th>\n",
       "      <td>59.850000</td>\n",
       "      <td>85.000000</td>\n",
       "      <td>6.000000</td>\n",
       "      <td>1264.630000</td>\n",
       "      <td>6.000000</td>\n",
       "      <td>1268.910000</td>\n",
       "      <td>9.000000</td>\n",
       "      <td>6.000000</td>\n",
       "      <td>935.030000</td>\n",
       "      <td>6.000000</td>\n",
       "      <td>6.000000</td>\n",
       "      <td>2.000000</td>\n",
       "      <td>6.000000</td>\n",
       "      <td>9.000000</td>\n",
       "      <td>6.000000</td>\n",
       "      <td>5.200000</td>\n",
       "      <td>1.000000</td>\n",
       "    </tr>\n",
       "  </tbody>\n",
       "</table>\n",
       "</div>"
      ],
      "text/plain": [
       "       Sector_score      PARA_A     SCORE_A       PARA_B     SCORE_B  \\\n",
       "count    776.000000  776.000000  776.000000   776.000000  776.000000   \n",
       "mean      20.184536    2.450194    3.512887    10.799988    3.131443   \n",
       "std       24.319017    5.678870    1.740549    50.083624    1.698042   \n",
       "min        1.850000    0.000000    2.000000     0.000000    2.000000   \n",
       "25%        2.370000    0.210000    2.000000     0.000000    2.000000   \n",
       "50%        3.890000    0.875000    2.000000     0.405000    2.000000   \n",
       "75%       55.570000    2.480000    6.000000     4.160000    4.000000   \n",
       "max       59.850000   85.000000    6.000000  1264.630000    6.000000   \n",
       "\n",
       "             TOTAL     numbers       Marks  Money_Value  MONEY_Marks  \\\n",
       "count   776.000000  776.000000  776.000000   775.000000   776.000000   \n",
       "mean     13.218481    5.067655    2.237113    14.137631     2.909794   \n",
       "std      51.312829    0.264449    0.803517    66.606519     1.597452   \n",
       "min       0.000000    5.000000    2.000000     0.000000     2.000000   \n",
       "25%       0.537500    5.000000    2.000000     0.000000     2.000000   \n",
       "50%       1.370000    5.000000    2.000000     0.090000     2.000000   \n",
       "75%       7.707500    5.000000    2.000000     5.595000     4.000000   \n",
       "max    1268.910000    9.000000    6.000000   935.030000     6.000000   \n",
       "\n",
       "         District        Loss  LOSS_SCORE     History  History_score  \\\n",
       "count  776.000000  776.000000  776.000000  776.000000     776.000000   \n",
       "mean     2.505155    0.029639    2.061856    0.104381       2.167526   \n",
       "std      1.228678    0.184280    0.375080    0.531031       0.679869   \n",
       "min      2.000000    0.000000    2.000000    0.000000       2.000000   \n",
       "25%      2.000000    0.000000    2.000000    0.000000       2.000000   \n",
       "50%      2.000000    0.000000    2.000000    0.000000       2.000000   \n",
       "75%      2.000000    0.000000    2.000000    0.000000       2.000000   \n",
       "max      6.000000    2.000000    6.000000    9.000000       6.000000   \n",
       "\n",
       "            Score        Risk  \n",
       "count  776.000000  776.000000  \n",
       "mean     2.702577    0.626289  \n",
       "std      0.858923    0.484100  \n",
       "min      2.000000    0.000000  \n",
       "25%      2.000000    0.000000  \n",
       "50%      2.400000    1.000000  \n",
       "75%      3.250000    1.000000  \n",
       "max      5.200000    1.000000  "
      ]
     },
     "execution_count": 36,
     "metadata": {},
     "output_type": "execute_result"
    }
   ],
   "source": [
    "trial.describe()"
   ]
  },
  {
   "cell_type": "markdown",
   "metadata": {},
   "source": [
    "2 dataframe have almost simmilar column names with a little bit of difference. lets finish those differce and then marge those two dataframes"
   ]
  },
  {
   "cell_type": "code",
   "execution_count": 37,
   "metadata": {},
   "outputs": [],
   "source": [
    "#Renaming columns\n",
    "trial.columns = ['Sector_score','LOCATION_ID', 'PARA_A', 'Score_A', 'PARA_B',\n",
    "       'Score_B',  'TOTAL', 'numbers', 'Marks',\n",
    "       'Money_Value', 'MONEY_Marks', 'District',\n",
    "       'Loss', 'LOSS_SCORE', 'History', 'History_score', 'Score', 'Risk_trial' ]"
   ]
  },
  {
   "cell_type": "code",
   "execution_count": 38,
   "metadata": {},
   "outputs": [],
   "source": [
    "trial['Score_A'] = trial['Score_A']/10\n",
    "trial['Score_B'] = trial['Score_B']/10"
   ]
  },
  {
   "cell_type": "code",
   "execution_count": 40,
   "metadata": {},
   "outputs": [
    {
     "data": {
      "text/plain": [
       "array(['History', 'LOCATION_ID', 'Money_Value', 'PARA_A', 'PARA_B',\n",
       "       'Score', 'Score_A', 'Score_B', 'Sector_score', 'TOTAL', 'numbers'],\n",
       "      dtype=object)"
      ]
     },
     "execution_count": 40,
     "metadata": {},
     "output_type": "execute_result"
    }
   ],
   "source": [
    "#common columns between 2 dataframes.....to use them as primary key to merge leter\n",
    "same_columns = np.intersect1d(audit_risk.columns, trial.columns)\n",
    "same_columns"
   ]
  },
  {
   "cell_type": "code",
   "execution_count": 45,
   "metadata": {},
   "outputs": [],
   "source": [
    "#Merging Dataframes...........\n",
    "data = pd.merge(trial, audit_risk, how='outer', on = ['History', 'LOCATION_ID', 'Money_Value', 'PARA_A', 'PARA_B',\n",
    "       'Score', 'Score_A', 'Score_B', 'Sector_score', 'TOTAL', 'numbers'])"
   ]
  },
  {
   "cell_type": "code",
   "execution_count": 46,
   "metadata": {
    "scrolled": true
   },
   "outputs": [
    {
     "data": {
      "text/html": [
       "<div>\n",
       "<style scoped>\n",
       "    .dataframe tbody tr th:only-of-type {\n",
       "        vertical-align: middle;\n",
       "    }\n",
       "\n",
       "    .dataframe tbody tr th {\n",
       "        vertical-align: top;\n",
       "    }\n",
       "\n",
       "    .dataframe thead th {\n",
       "        text-align: right;\n",
       "    }\n",
       "</style>\n",
       "<table border=\"1\" class=\"dataframe\">\n",
       "  <thead>\n",
       "    <tr style=\"text-align: right;\">\n",
       "      <th></th>\n",
       "      <th>Sector_score</th>\n",
       "      <th>LOCATION_ID</th>\n",
       "      <th>PARA_A</th>\n",
       "      <th>Score_A</th>\n",
       "      <th>PARA_B</th>\n",
       "      <th>Score_B</th>\n",
       "      <th>TOTAL</th>\n",
       "      <th>numbers</th>\n",
       "      <th>Marks</th>\n",
       "      <th>Money_Value</th>\n",
       "      <th>...</th>\n",
       "      <th>District_Loss</th>\n",
       "      <th>PROB</th>\n",
       "      <th>RiSk_E</th>\n",
       "      <th>Prob</th>\n",
       "      <th>Risk_F</th>\n",
       "      <th>Inherent_Risk</th>\n",
       "      <th>CONTROL_RISK</th>\n",
       "      <th>Detection_Risk</th>\n",
       "      <th>Audit_Risk</th>\n",
       "      <th>Risk</th>\n",
       "    </tr>\n",
       "  </thead>\n",
       "  <tbody>\n",
       "    <tr>\n",
       "      <th>0</th>\n",
       "      <td>3.89</td>\n",
       "      <td>23</td>\n",
       "      <td>4.18</td>\n",
       "      <td>0.6</td>\n",
       "      <td>2.50</td>\n",
       "      <td>0.2</td>\n",
       "      <td>6.68</td>\n",
       "      <td>5.0</td>\n",
       "      <td>2</td>\n",
       "      <td>3.38</td>\n",
       "      <td>...</td>\n",
       "      <td>2</td>\n",
       "      <td>0.2</td>\n",
       "      <td>0.4</td>\n",
       "      <td>0.2</td>\n",
       "      <td>0.0</td>\n",
       "      <td>8.574</td>\n",
       "      <td>0.4</td>\n",
       "      <td>0.5</td>\n",
       "      <td>1.7148</td>\n",
       "      <td>1</td>\n",
       "    </tr>\n",
       "    <tr>\n",
       "      <th>1</th>\n",
       "      <td>3.89</td>\n",
       "      <td>6</td>\n",
       "      <td>0.00</td>\n",
       "      <td>0.2</td>\n",
       "      <td>4.83</td>\n",
       "      <td>0.2</td>\n",
       "      <td>4.83</td>\n",
       "      <td>5.0</td>\n",
       "      <td>2</td>\n",
       "      <td>0.94</td>\n",
       "      <td>...</td>\n",
       "      <td>2</td>\n",
       "      <td>0.2</td>\n",
       "      <td>0.4</td>\n",
       "      <td>0.2</td>\n",
       "      <td>0.0</td>\n",
       "      <td>2.554</td>\n",
       "      <td>0.4</td>\n",
       "      <td>0.5</td>\n",
       "      <td>0.5108</td>\n",
       "      <td>0</td>\n",
       "    </tr>\n",
       "    <tr>\n",
       "      <th>2</th>\n",
       "      <td>3.89</td>\n",
       "      <td>6</td>\n",
       "      <td>0.51</td>\n",
       "      <td>0.2</td>\n",
       "      <td>0.23</td>\n",
       "      <td>0.2</td>\n",
       "      <td>0.74</td>\n",
       "      <td>5.0</td>\n",
       "      <td>2</td>\n",
       "      <td>0.00</td>\n",
       "      <td>...</td>\n",
       "      <td>2</td>\n",
       "      <td>0.2</td>\n",
       "      <td>0.4</td>\n",
       "      <td>0.2</td>\n",
       "      <td>0.0</td>\n",
       "      <td>1.548</td>\n",
       "      <td>0.4</td>\n",
       "      <td>0.5</td>\n",
       "      <td>0.3096</td>\n",
       "      <td>0</td>\n",
       "    </tr>\n",
       "    <tr>\n",
       "      <th>3</th>\n",
       "      <td>3.89</td>\n",
       "      <td>6</td>\n",
       "      <td>0.00</td>\n",
       "      <td>0.2</td>\n",
       "      <td>10.80</td>\n",
       "      <td>0.6</td>\n",
       "      <td>10.80</td>\n",
       "      <td>6.0</td>\n",
       "      <td>6</td>\n",
       "      <td>11.75</td>\n",
       "      <td>...</td>\n",
       "      <td>2</td>\n",
       "      <td>0.2</td>\n",
       "      <td>0.4</td>\n",
       "      <td>0.2</td>\n",
       "      <td>0.0</td>\n",
       "      <td>17.530</td>\n",
       "      <td>0.4</td>\n",
       "      <td>0.5</td>\n",
       "      <td>3.5060</td>\n",
       "      <td>1</td>\n",
       "    </tr>\n",
       "    <tr>\n",
       "      <th>4</th>\n",
       "      <td>3.89</td>\n",
       "      <td>6</td>\n",
       "      <td>0.00</td>\n",
       "      <td>0.2</td>\n",
       "      <td>0.08</td>\n",
       "      <td>0.2</td>\n",
       "      <td>0.08</td>\n",
       "      <td>5.0</td>\n",
       "      <td>2</td>\n",
       "      <td>0.00</td>\n",
       "      <td>...</td>\n",
       "      <td>2</td>\n",
       "      <td>0.2</td>\n",
       "      <td>0.4</td>\n",
       "      <td>0.2</td>\n",
       "      <td>0.0</td>\n",
       "      <td>1.416</td>\n",
       "      <td>0.4</td>\n",
       "      <td>0.5</td>\n",
       "      <td>0.2832</td>\n",
       "      <td>0</td>\n",
       "    </tr>\n",
       "  </tbody>\n",
       "</table>\n",
       "<p>5 rows × 34 columns</p>\n",
       "</div>"
      ],
      "text/plain": [
       "   Sector_score LOCATION_ID  PARA_A  Score_A  PARA_B  Score_B  TOTAL  numbers  \\\n",
       "0          3.89          23    4.18      0.6    2.50      0.2   6.68      5.0   \n",
       "1          3.89           6    0.00      0.2    4.83      0.2   4.83      5.0   \n",
       "2          3.89           6    0.51      0.2    0.23      0.2   0.74      5.0   \n",
       "3          3.89           6    0.00      0.2   10.80      0.6  10.80      6.0   \n",
       "4          3.89           6    0.00      0.2    0.08      0.2   0.08      5.0   \n",
       "\n",
       "   Marks  Money_Value  ...  District_Loss  PROB  RiSk_E  Prob  Risk_F  \\\n",
       "0      2         3.38  ...              2   0.2     0.4   0.2     0.0   \n",
       "1      2         0.94  ...              2   0.2     0.4   0.2     0.0   \n",
       "2      2         0.00  ...              2   0.2     0.4   0.2     0.0   \n",
       "3      6        11.75  ...              2   0.2     0.4   0.2     0.0   \n",
       "4      2         0.00  ...              2   0.2     0.4   0.2     0.0   \n",
       "\n",
       "   Inherent_Risk  CONTROL_RISK  Detection_Risk  Audit_Risk  Risk  \n",
       "0          8.574           0.4             0.5      1.7148     1  \n",
       "1          2.554           0.4             0.5      0.5108     0  \n",
       "2          1.548           0.4             0.5      0.3096     0  \n",
       "3         17.530           0.4             0.5      3.5060     1  \n",
       "4          1.416           0.4             0.5      0.2832     0  \n",
       "\n",
       "[5 rows x 34 columns]"
      ]
     },
     "execution_count": 46,
     "metadata": {},
     "output_type": "execute_result"
    }
   ],
   "source": [
    "data.head()"
   ]
  },
  {
   "cell_type": "code",
   "execution_count": 47,
   "metadata": {},
   "outputs": [
    {
     "data": {
      "text/plain": [
       "Index(['Sector_score', 'LOCATION_ID', 'PARA_A', 'Score_A', 'PARA_B', 'Score_B',\n",
       "       'TOTAL', 'numbers', 'Marks', 'Money_Value', 'MONEY_Marks', 'District',\n",
       "       'Loss', 'LOSS_SCORE', 'History', 'History_score', 'Score', 'Risk_trial',\n",
       "       'Risk_A', 'Risk_B', 'Score_B.1', 'Risk_C', 'Score_MV', 'Risk_D',\n",
       "       'District_Loss', 'PROB', 'RiSk_E', 'Prob', 'Risk_F', 'Inherent_Risk',\n",
       "       'CONTROL_RISK', 'Detection_Risk', 'Audit_Risk', 'Risk'],\n",
       "      dtype='object')"
      ]
     },
     "execution_count": 47,
     "metadata": {},
     "output_type": "execute_result"
    }
   ],
   "source": [
    "data.columns"
   ]
  },
  {
   "cell_type": "code",
   "execution_count": 48,
   "metadata": {},
   "outputs": [],
   "source": [
    "# \"Risk\" and \"Risk_trial\" both represent the final result. lets keep the 1st one and drop the last one.\n",
    "data = data.drop(['Risk_trial'], axis = 1)"
   ]
  },
  {
   "cell_type": "code",
   "execution_count": 49,
   "metadata": {},
   "outputs": [
    {
     "data": {
      "text/html": [
       "<div>\n",
       "<style scoped>\n",
       "    .dataframe tbody tr th:only-of-type {\n",
       "        vertical-align: middle;\n",
       "    }\n",
       "\n",
       "    .dataframe tbody tr th {\n",
       "        vertical-align: top;\n",
       "    }\n",
       "\n",
       "    .dataframe thead th {\n",
       "        text-align: right;\n",
       "    }\n",
       "</style>\n",
       "<table border=\"1\" class=\"dataframe\">\n",
       "  <thead>\n",
       "    <tr style=\"text-align: right;\">\n",
       "      <th></th>\n",
       "      <th>Sector_score</th>\n",
       "      <th>LOCATION_ID</th>\n",
       "      <th>PARA_A</th>\n",
       "      <th>Score_A</th>\n",
       "      <th>PARA_B</th>\n",
       "      <th>Score_B</th>\n",
       "      <th>TOTAL</th>\n",
       "      <th>numbers</th>\n",
       "      <th>Marks</th>\n",
       "      <th>Money_Value</th>\n",
       "      <th>...</th>\n",
       "      <th>District_Loss</th>\n",
       "      <th>PROB</th>\n",
       "      <th>RiSk_E</th>\n",
       "      <th>Prob</th>\n",
       "      <th>Risk_F</th>\n",
       "      <th>Inherent_Risk</th>\n",
       "      <th>CONTROL_RISK</th>\n",
       "      <th>Detection_Risk</th>\n",
       "      <th>Audit_Risk</th>\n",
       "      <th>Risk</th>\n",
       "    </tr>\n",
       "  </thead>\n",
       "  <tbody>\n",
       "    <tr>\n",
       "      <th>0</th>\n",
       "      <td>3.89</td>\n",
       "      <td>23</td>\n",
       "      <td>4.18</td>\n",
       "      <td>0.6</td>\n",
       "      <td>2.50</td>\n",
       "      <td>0.2</td>\n",
       "      <td>6.68</td>\n",
       "      <td>5.0</td>\n",
       "      <td>2</td>\n",
       "      <td>3.38</td>\n",
       "      <td>...</td>\n",
       "      <td>2</td>\n",
       "      <td>0.2</td>\n",
       "      <td>0.4</td>\n",
       "      <td>0.2</td>\n",
       "      <td>0.0</td>\n",
       "      <td>8.574</td>\n",
       "      <td>0.4</td>\n",
       "      <td>0.5</td>\n",
       "      <td>1.7148</td>\n",
       "      <td>1</td>\n",
       "    </tr>\n",
       "    <tr>\n",
       "      <th>1</th>\n",
       "      <td>3.89</td>\n",
       "      <td>6</td>\n",
       "      <td>0.00</td>\n",
       "      <td>0.2</td>\n",
       "      <td>4.83</td>\n",
       "      <td>0.2</td>\n",
       "      <td>4.83</td>\n",
       "      <td>5.0</td>\n",
       "      <td>2</td>\n",
       "      <td>0.94</td>\n",
       "      <td>...</td>\n",
       "      <td>2</td>\n",
       "      <td>0.2</td>\n",
       "      <td>0.4</td>\n",
       "      <td>0.2</td>\n",
       "      <td>0.0</td>\n",
       "      <td>2.554</td>\n",
       "      <td>0.4</td>\n",
       "      <td>0.5</td>\n",
       "      <td>0.5108</td>\n",
       "      <td>0</td>\n",
       "    </tr>\n",
       "    <tr>\n",
       "      <th>2</th>\n",
       "      <td>3.89</td>\n",
       "      <td>6</td>\n",
       "      <td>0.51</td>\n",
       "      <td>0.2</td>\n",
       "      <td>0.23</td>\n",
       "      <td>0.2</td>\n",
       "      <td>0.74</td>\n",
       "      <td>5.0</td>\n",
       "      <td>2</td>\n",
       "      <td>0.00</td>\n",
       "      <td>...</td>\n",
       "      <td>2</td>\n",
       "      <td>0.2</td>\n",
       "      <td>0.4</td>\n",
       "      <td>0.2</td>\n",
       "      <td>0.0</td>\n",
       "      <td>1.548</td>\n",
       "      <td>0.4</td>\n",
       "      <td>0.5</td>\n",
       "      <td>0.3096</td>\n",
       "      <td>0</td>\n",
       "    </tr>\n",
       "    <tr>\n",
       "      <th>3</th>\n",
       "      <td>3.89</td>\n",
       "      <td>6</td>\n",
       "      <td>0.00</td>\n",
       "      <td>0.2</td>\n",
       "      <td>10.80</td>\n",
       "      <td>0.6</td>\n",
       "      <td>10.80</td>\n",
       "      <td>6.0</td>\n",
       "      <td>6</td>\n",
       "      <td>11.75</td>\n",
       "      <td>...</td>\n",
       "      <td>2</td>\n",
       "      <td>0.2</td>\n",
       "      <td>0.4</td>\n",
       "      <td>0.2</td>\n",
       "      <td>0.0</td>\n",
       "      <td>17.530</td>\n",
       "      <td>0.4</td>\n",
       "      <td>0.5</td>\n",
       "      <td>3.5060</td>\n",
       "      <td>1</td>\n",
       "    </tr>\n",
       "    <tr>\n",
       "      <th>4</th>\n",
       "      <td>3.89</td>\n",
       "      <td>6</td>\n",
       "      <td>0.00</td>\n",
       "      <td>0.2</td>\n",
       "      <td>0.08</td>\n",
       "      <td>0.2</td>\n",
       "      <td>0.08</td>\n",
       "      <td>5.0</td>\n",
       "      <td>2</td>\n",
       "      <td>0.00</td>\n",
       "      <td>...</td>\n",
       "      <td>2</td>\n",
       "      <td>0.2</td>\n",
       "      <td>0.4</td>\n",
       "      <td>0.2</td>\n",
       "      <td>0.0</td>\n",
       "      <td>1.416</td>\n",
       "      <td>0.4</td>\n",
       "      <td>0.5</td>\n",
       "      <td>0.2832</td>\n",
       "      <td>0</td>\n",
       "    </tr>\n",
       "  </tbody>\n",
       "</table>\n",
       "<p>5 rows × 33 columns</p>\n",
       "</div>"
      ],
      "text/plain": [
       "   Sector_score LOCATION_ID  PARA_A  Score_A  PARA_B  Score_B  TOTAL  numbers  \\\n",
       "0          3.89          23    4.18      0.6    2.50      0.2   6.68      5.0   \n",
       "1          3.89           6    0.00      0.2    4.83      0.2   4.83      5.0   \n",
       "2          3.89           6    0.51      0.2    0.23      0.2   0.74      5.0   \n",
       "3          3.89           6    0.00      0.2   10.80      0.6  10.80      6.0   \n",
       "4          3.89           6    0.00      0.2    0.08      0.2   0.08      5.0   \n",
       "\n",
       "   Marks  Money_Value  ...  District_Loss  PROB  RiSk_E  Prob  Risk_F  \\\n",
       "0      2         3.38  ...              2   0.2     0.4   0.2     0.0   \n",
       "1      2         0.94  ...              2   0.2     0.4   0.2     0.0   \n",
       "2      2         0.00  ...              2   0.2     0.4   0.2     0.0   \n",
       "3      6        11.75  ...              2   0.2     0.4   0.2     0.0   \n",
       "4      2         0.00  ...              2   0.2     0.4   0.2     0.0   \n",
       "\n",
       "   Inherent_Risk  CONTROL_RISK  Detection_Risk  Audit_Risk  Risk  \n",
       "0          8.574           0.4             0.5      1.7148     1  \n",
       "1          2.554           0.4             0.5      0.5108     0  \n",
       "2          1.548           0.4             0.5      0.3096     0  \n",
       "3         17.530           0.4             0.5      3.5060     1  \n",
       "4          1.416           0.4             0.5      0.2832     0  \n",
       "\n",
       "[5 rows x 33 columns]"
      ]
     },
     "execution_count": 49,
     "metadata": {},
     "output_type": "execute_result"
    }
   ],
   "source": [
    "data.head()"
   ]
  },
  {
   "cell_type": "code",
   "execution_count": 50,
   "metadata": {},
   "outputs": [
    {
     "data": {
      "text/plain": [
       "(810, 33)"
      ]
     },
     "execution_count": 50,
     "metadata": {},
     "output_type": "execute_result"
    }
   ],
   "source": [
    "data.shape"
   ]
  },
  {
   "cell_type": "code",
   "execution_count": 51,
   "metadata": {},
   "outputs": [
    {
     "data": {
      "text/plain": [
       "Sector_score       13\n",
       "LOCATION_ID        45\n",
       "PARA_A            363\n",
       "Score_A             3\n",
       "PARA_B            358\n",
       "Score_B             3\n",
       "TOTAL             471\n",
       "numbers             5\n",
       "Marks               3\n",
       "Money_Value       328\n",
       "MONEY_Marks         3\n",
       "District            3\n",
       "Loss                3\n",
       "LOSS_SCORE          3\n",
       "History             7\n",
       "History_score       3\n",
       "Score              17\n",
       "Risk_A            363\n",
       "Risk_B            360\n",
       "Score_B.1           3\n",
       "Risk_C              5\n",
       "Score_MV            3\n",
       "Risk_D            328\n",
       "District_Loss       3\n",
       "PROB                3\n",
       "RiSk_E              5\n",
       "Prob                3\n",
       "Risk_F              7\n",
       "Inherent_Risk     584\n",
       "CONTROL_RISK       11\n",
       "Detection_Risk      1\n",
       "Audit_Risk        601\n",
       "Risk                2\n",
       "dtype: int64"
      ]
     },
     "execution_count": 51,
     "metadata": {},
     "output_type": "execute_result"
    }
   ],
   "source": [
    "# number of unique values\n",
    "data.nunique()"
   ]
  },
  {
   "cell_type": "code",
   "execution_count": 52,
   "metadata": {},
   "outputs": [
    {
     "data": {
      "text/plain": [
       "0    503\n",
       "1    307\n",
       "Name: Risk, dtype: int64"
      ]
     },
     "execution_count": 52,
     "metadata": {},
     "output_type": "execute_result"
    }
   ],
   "source": [
    "# Let's see how many positive (1) and negative (0) samples we have in our dataframe\n",
    "data.Risk.value_counts()"
   ]
  },
  {
   "cell_type": "code",
   "execution_count": 53,
   "metadata": {},
   "outputs": [
    {
     "data": {
      "text/plain": [
       "0    0.620988\n",
       "1    0.379012\n",
       "Name: Risk, dtype: float64"
      ]
     },
     "execution_count": 53,
     "metadata": {},
     "output_type": "execute_result"
    }
   ],
   "source": [
    "# Normalized value counts\n",
    "data.Risk.value_counts(normalize=True)"
   ]
  },
  {
   "cell_type": "code",
   "execution_count": 54,
   "metadata": {},
   "outputs": [
    {
     "data": {
      "image/png": "[encoded data removed]",
      "text/plain": [
       "<Figure size 432x288 with 1 Axes>"
      ]
     },
     "metadata": {
      "needs_background": "light"
     },
     "output_type": "display_data"
    }
   ],
   "source": [
    "# Plot the value counts with a bar graph\n",
    "data.Risk.value_counts().plot(kind=\"bar\", color=[\"lime\", \"red\"]);"
   ]
  },
  {
   "cell_type": "markdown",
   "metadata": {},
   "source": [
    "# Missing values"
   ]
  },
  {
   "cell_type": "code",
   "execution_count": 55,
   "metadata": {
    "scrolled": false
   },
   "outputs": [
    {
     "data": {
      "text/plain": [
       "Sector_score      0\n",
       "LOCATION_ID       0\n",
       "PARA_A            0\n",
       "Score_A           0\n",
       "PARA_B            0\n",
       "Score_B           0\n",
       "TOTAL             0\n",
       "numbers           0\n",
       "Marks             0\n",
       "Money_Value       1\n",
       "MONEY_Marks       0\n",
       "District          0\n",
       "Loss              0\n",
       "LOSS_SCORE        0\n",
       "History           0\n",
       "History_score     0\n",
       "Score             0\n",
       "Risk_A            0\n",
       "Risk_B            0\n",
       "Score_B.1         0\n",
       "Risk_C            0\n",
       "Score_MV          0\n",
       "Risk_D            0\n",
       "District_Loss     0\n",
       "PROB              0\n",
       "RiSk_E            0\n",
       "Prob              0\n",
       "Risk_F            0\n",
       "Inherent_Risk     0\n",
       "CONTROL_RISK      0\n",
       "Detection_Risk    0\n",
       "Audit_Risk        0\n",
       "Risk              0\n",
       "dtype: int64"
      ]
     },
     "execution_count": 55,
     "metadata": {},
     "output_type": "execute_result"
    }
   ],
   "source": [
    "#checking for missing values\n",
    "data.isnull().sum() "
   ]
  },
  {
   "cell_type": "markdown",
   "metadata": {},
   "source": [
    "\"Money_Value\" has 1 missing value"
   ]
  },
  {
   "cell_type": "code",
   "execution_count": 56,
   "metadata": {
    "scrolled": true
   },
   "outputs": [
    {
     "name": "stdout",
     "output_type": "stream",
     "text": [
      "<class 'pandas.core.frame.DataFrame'>\n",
      "Int64Index: 810 entries, 0 to 809\n",
      "Data columns (total 33 columns):\n",
      " #   Column          Non-Null Count  Dtype  \n",
      "---  ------          --------------  -----  \n",
      " 0   Sector_score    810 non-null    float64\n",
      " 1   LOCATION_ID     810 non-null    object \n",
      " 2   PARA_A          810 non-null    float64\n",
      " 3   Score_A         810 non-null    float64\n",
      " 4   PARA_B          810 non-null    float64\n",
      " 5   Score_B         810 non-null    float64\n",
      " 6   TOTAL           810 non-null    float64\n",
      " 7   numbers         810 non-null    float64\n",
      " 8   Marks           810 non-null    int64  \n",
      " 9   Money_Value     809 non-null    float64\n",
      " 10  MONEY_Marks     810 non-null    int64  \n",
      " 11  District        810 non-null    int64  \n",
      " 12  Loss            810 non-null    int64  \n",
      " 13  LOSS_SCORE      810 non-null    int64  \n",
      " 14  History         810 non-null    int64  \n",
      " 15  History_score   810 non-null    int64  \n",
      " 16  Score           810 non-null    float64\n",
      " 17  Risk_A          810 non-null    float64\n",
      " 18  Risk_B          810 non-null    float64\n",
      " 19  Score_B.1       810 non-null    float64\n",
      " 20  Risk_C          810 non-null    float64\n",
      " 21  Score_MV        810 non-null    float64\n",
      " 22  Risk_D          810 non-null    float64\n",
      " 23  District_Loss   810 non-null    int64  \n",
      " 24  PROB            810 non-null    float64\n",
      " 25  RiSk_E          810 non-null    float64\n",
      " 26  Prob            810 non-null    float64\n",
      " 27  Risk_F          810 non-null    float64\n",
      " 28  Inherent_Risk   810 non-null    float64\n",
      " 29  CONTROL_RISK    810 non-null    float64\n",
      " 30  Detection_Risk  810 non-null    float64\n",
      " 31  Audit_Risk      810 non-null    float64\n",
      " 32  Risk            810 non-null    int64  \n",
      "dtypes: float64(23), int64(9), object(1)\n",
      "memory usage: 215.2+ KB\n"
     ]
    }
   ],
   "source": [
    "#shows a quick insight to the number of missing values you have and what type of data your working with.\n",
    "data.info()"
   ]
  },
  {
   "cell_type": "markdown",
   "metadata": {},
   "source": [
    "\"LOCATION_ID\" is \"object\" type....means non-numerical data. but it has numerical value :/"
   ]
  },
  {
   "cell_type": "code",
   "execution_count": 57,
   "metadata": {
    "scrolled": true
   },
   "outputs": [
    {
     "data": {
      "text/plain": [
       "count    809.000000\n",
       "mean      13.543466\n",
       "std       65.251851\n",
       "min        0.000000\n",
       "25%        0.000000\n",
       "50%        0.050000\n",
       "75%        4.950000\n",
       "max      935.030000\n",
       "Name: Money_Value, dtype: float64"
      ]
     },
     "execution_count": 57,
     "metadata": {},
     "output_type": "execute_result"
    }
   ],
   "source": [
    "data.Money_Value.describe()"
   ]
  },
  {
   "cell_type": "code",
   "execution_count": 58,
   "metadata": {},
   "outputs": [],
   "source": [
    "# filling the missing value with the mean value\n",
    "data.Money_Value.fillna(data.Money_Value.mean(), inplace=True)"
   ]
  },
  {
   "cell_type": "code",
   "execution_count": 60,
   "metadata": {
    "scrolled": false
   },
   "outputs": [
    {
     "data": {
      "text/plain": [
       "Sector_score      0\n",
       "LOCATION_ID       0\n",
       "PARA_A            0\n",
       "Score_A           0\n",
       "PARA_B            0\n",
       "Score_B           0\n",
       "TOTAL             0\n",
       "numbers           0\n",
       "Marks             0\n",
       "Money_Value       0\n",
       "MONEY_Marks       0\n",
       "District          0\n",
       "Loss              0\n",
       "LOSS_SCORE        0\n",
       "History           0\n",
       "History_score     0\n",
       "Score             0\n",
       "Risk_A            0\n",
       "Risk_B            0\n",
       "Score_B.1         0\n",
       "Risk_C            0\n",
       "Score_MV          0\n",
       "Risk_D            0\n",
       "District_Loss     0\n",
       "PROB              0\n",
       "RiSk_E            0\n",
       "Prob              0\n",
       "Risk_F            0\n",
       "Inherent_Risk     0\n",
       "CONTROL_RISK      0\n",
       "Detection_Risk    0\n",
       "Audit_Risk        0\n",
       "Risk              0\n",
       "dtype: int64"
      ]
     },
     "execution_count": 60,
     "metadata": {},
     "output_type": "execute_result"
    }
   ],
   "source": [
    "#checking if the missing value is filled\n",
    "data.isnull().sum()"
   ]
  },
  {
   "cell_type": "code",
   "execution_count": null,
   "metadata": {},
   "outputs": [],
   "source": [
    "#\"Detection_Risk\" have the same value for all tuples. so, it won't matter in the final result. lets drop it\n",
    "data = data.drop(['Detection_Risk'], axis = 1) "
   ]
  },
  {
   "cell_type": "markdown",
   "metadata": {},
   "source": [
    "# non-Numerical Features Analysis"
   ]
  },
  {
   "cell_type": "code",
   "execution_count": 63,
   "metadata": {},
   "outputs": [
    {
     "data": {
      "text/plain": [
       "Index(['Sector_score', 'LOCATION_ID', 'PARA_A', 'Score_A', 'PARA_B', 'Score_B',\n",
       "       'TOTAL', 'numbers', 'Marks', 'Money_Value', 'MONEY_Marks', 'District',\n",
       "       'Loss', 'LOSS_SCORE', 'History', 'History_score', 'Score', 'Risk_A',\n",
       "       'Risk_B', 'Score_B.1', 'Risk_C', 'Score_MV', 'Risk_D', 'District_Loss',\n",
       "       'PROB', 'RiSk_E', 'Prob', 'Risk_F', 'Inherent_Risk', 'CONTROL_RISK',\n",
       "       'Detection_Risk', 'Audit_Risk', 'Risk'],\n",
       "      dtype='object')"
      ]
     },
     "execution_count": 63,
     "metadata": {},
     "output_type": "execute_result"
    }
   ],
   "source": [
    "data.columns"
   ]
  },
  {
   "cell_type": "code",
   "execution_count": 77,
   "metadata": {
    "scrolled": true
   },
   "outputs": [
    {
     "name": "stdout",
     "output_type": "stream",
     "text": [
      "<class 'pandas.core.frame.DataFrame'>\n",
      "Int64Index: 810 entries, 0 to 809\n",
      "Data columns (total 32 columns):\n",
      " #   Column         Non-Null Count  Dtype  \n",
      "---  ------         --------------  -----  \n",
      " 0   Sector_score   810 non-null    float64\n",
      " 1   LOCATION_ID    810 non-null    object \n",
      " 2   PARA_A         810 non-null    float64\n",
      " 3   Score_A        810 non-null    float64\n",
      " 4   PARA_B         810 non-null    float64\n",
      " 5   Score_B        810 non-null    float64\n",
      " 6   TOTAL          810 non-null    float64\n",
      " 7   numbers        810 non-null    float64\n",
      " 8   Marks          810 non-null    int64  \n",
      " 9   Money_Value    810 non-null    float64\n",
      " 10  MONEY_Marks    810 non-null    int64  \n",
      " 11  District       810 non-null    int64  \n",
      " 12  Loss           810 non-null    int64  \n",
      " 13  LOSS_SCORE     810 non-null    int64  \n",
      " 14  History        810 non-null    int64  \n",
      " 15  History_score  810 non-null    int64  \n",
      " 16  Score          810 non-null    float64\n",
      " 17  Risk_A         810 non-null    float64\n",
      " 18  Risk_B         810 non-null    float64\n",
      " 19  Score_B.1      810 non-null    float64\n",
      " 20  Risk_C         810 non-null    float64\n",
      " 21  Score_MV       810 non-null    float64\n",
      " 22  Risk_D         810 non-null    float64\n",
      " 23  District_Loss  810 non-null    int64  \n",
      " 24  PROB           810 non-null    float64\n",
      " 25  RiSk_E         810 non-null    float64\n",
      " 26  Prob           810 non-null    float64\n",
      " 27  Risk_F         810 non-null    float64\n",
      " 28  Inherent_Risk  810 non-null    float64\n",
      " 29  CONTROL_RISK   810 non-null    float64\n",
      " 30  Audit_Risk     810 non-null    float64\n",
      " 31  Risk           810 non-null    int64  \n",
      "dtypes: float64(22), int64(9), object(1)\n",
      "memory usage: 208.8+ KB\n"
     ]
    }
   ],
   "source": [
    "data.info()"
   ]
  },
  {
   "cell_type": "markdown",
   "metadata": {},
   "source": [
    "\"LOCATION_ID\" is \"object\" type....means non-numerical data. but it has numerical value :/"
   ]
  },
  {
   "cell_type": "code",
   "execution_count": 68,
   "metadata": {},
   "outputs": [
    {
     "data": {
      "text/plain": [
       "array(['23', '6', '7', '8', '13', '37', '24', '3', '4', '14', '5', '20',\n",
       "       '19', '21', '22', '9', '11', '12', '29', '30', '38', '31', '2',\n",
       "       '32', '16', '33', '15', '36', '34', '18', '25', '39', '27', '35',\n",
       "       '40', '41', '42', '1', '28', 'LOHARU', 'NUH', 'SAFIDON', '43',\n",
       "       '44', '17'], dtype=object)"
      ]
     },
     "execution_count": 68,
     "metadata": {},
     "output_type": "execute_result"
    }
   ],
   "source": [
    "#Unique values in LOCATION_ID column\n",
    "data[\"LOCATION_ID\"].unique()"
   ]
  },
  {
   "cell_type": "markdown",
   "metadata": {},
   "source": [
    "only 3 values are non-numerical.....lets find out the lengthof each of them."
   ]
  },
  {
   "cell_type": "code",
   "execution_count": 78,
   "metadata": {},
   "outputs": [
    {
     "data": {
      "text/plain": [
       "1"
      ]
     },
     "execution_count": 78,
     "metadata": {},
     "output_type": "execute_result"
    }
   ],
   "source": [
    "len(data[(data[\"LOCATION_ID\"] == 'LOHARU')])"
   ]
  },
  {
   "cell_type": "code",
   "execution_count": 79,
   "metadata": {},
   "outputs": [
    {
     "data": {
      "text/plain": [
       "1"
      ]
     },
     "execution_count": 79,
     "metadata": {},
     "output_type": "execute_result"
    }
   ],
   "source": [
    "len(data[(data[\"LOCATION_ID\"] == 'NUH')])"
   ]
  },
  {
   "cell_type": "code",
   "execution_count": 80,
   "metadata": {},
   "outputs": [
    {
     "data": {
      "text/plain": [
       "1"
      ]
     },
     "execution_count": 80,
     "metadata": {},
     "output_type": "execute_result"
    }
   ],
   "source": [
    "len(data[(data[\"LOCATION_ID\"] == 'SAFIDON')])"
   ]
  },
  {
   "cell_type": "markdown",
   "metadata": {},
   "source": [
    "only 3 tupes have non-numerical value on \"LOCATION_ID\". lets drop these 3 rows"
   ]
  },
  {
   "cell_type": "code",
   "execution_count": 81,
   "metadata": {},
   "outputs": [],
   "source": [
    "data = data[(data.LOCATION_ID != 'LOHARU')]\n",
    "data = data[(data.LOCATION_ID != 'NUH')]\n",
    "data = data[(data.LOCATION_ID != 'SAFIDON')]"
   ]
  },
  {
   "cell_type": "code",
   "execution_count": 82,
   "metadata": {},
   "outputs": [],
   "source": [
    "# lets convert object type into numerical type\n",
    "data = data.astype(float)"
   ]
  },
  {
   "cell_type": "code",
   "execution_count": 83,
   "metadata": {},
   "outputs": [
    {
     "data": {
      "text/plain": [
       "(807, 32)"
      ]
     },
     "execution_count": 83,
     "metadata": {},
     "output_type": "execute_result"
    }
   ],
   "source": [
    "data.shape"
   ]
  },
  {
   "cell_type": "code",
   "execution_count": 85,
   "metadata": {},
   "outputs": [
    {
     "name": "stdout",
     "output_type": "stream",
     "text": [
      "<class 'pandas.core.frame.DataFrame'>\n",
      "Int64Index: 807 entries, 0 to 809\n",
      "Data columns (total 32 columns):\n",
      " #   Column         Non-Null Count  Dtype  \n",
      "---  ------         --------------  -----  \n",
      " 0   Sector_score   807 non-null    float64\n",
      " 1   LOCATION_ID    807 non-null    float64\n",
      " 2   PARA_A         807 non-null    float64\n",
      " 3   Score_A        807 non-null    float64\n",
      " 4   PARA_B         807 non-null    float64\n",
      " 5   Score_B        807 non-null    float64\n",
      " 6   TOTAL          807 non-null    float64\n",
      " 7   numbers        807 non-null    float64\n",
      " 8   Marks          807 non-null    float64\n",
      " 9   Money_Value    807 non-null    float64\n",
      " 10  MONEY_Marks    807 non-null    float64\n",
      " 11  District       807 non-null    float64\n",
      " 12  Loss           807 non-null    float64\n",
      " 13  LOSS_SCORE     807 non-null    float64\n",
      " 14  History        807 non-null    float64\n",
      " 15  History_score  807 non-null    float64\n",
      " 16  Score          807 non-null    float64\n",
      " 17  Risk_A         807 non-null    float64\n",
      " 18  Risk_B         807 non-null    float64\n",
      " 19  Score_B.1      807 non-null    float64\n",
      " 20  Risk_C         807 non-null    float64\n",
      " 21  Score_MV       807 non-null    float64\n",
      " 22  Risk_D         807 non-null    float64\n",
      " 23  District_Loss  807 non-null    float64\n",
      " 24  PROB           807 non-null    float64\n",
      " 25  RiSk_E         807 non-null    float64\n",
      " 26  Prob           807 non-null    float64\n",
      " 27  Risk_F         807 non-null    float64\n",
      " 28  Inherent_Risk  807 non-null    float64\n",
      " 29  CONTROL_RISK   807 non-null    float64\n",
      " 30  Audit_Risk     807 non-null    float64\n",
      " 31  Risk           807 non-null    float64\n",
      "dtypes: float64(32)\n",
      "memory usage: 208.1 KB\n"
     ]
    }
   ],
   "source": [
    "data.info()"
   ]
  },
  {
   "cell_type": "code",
   "execution_count": 86,
   "metadata": {},
   "outputs": [
    {
     "data": {
      "text/plain": [
       "(760, 32)"
      ]
     },
     "execution_count": 86,
     "metadata": {},
     "output_type": "execute_result"
    }
   ],
   "source": [
    "#Dropping duplicate values\n",
    "data = data.drop_duplicates(keep = 'first')\n",
    "data.shape"
   ]
  },
  {
   "cell_type": "code",
   "execution_count": 87,
   "metadata": {},
   "outputs": [
    {
     "data": {
      "text/plain": [
       "Sector_score      13\n",
       "LOCATION_ID       42\n",
       "PARA_A           362\n",
       "Score_A            3\n",
       "PARA_B           358\n",
       "Score_B            3\n",
       "TOTAL            470\n",
       "numbers            5\n",
       "Marks              3\n",
       "Money_Value      328\n",
       "MONEY_Marks        3\n",
       "District           3\n",
       "Loss               3\n",
       "LOSS_SCORE         3\n",
       "History            7\n",
       "History_score      3\n",
       "Score             17\n",
       "Risk_A           362\n",
       "Risk_B           360\n",
       "Score_B.1          3\n",
       "Risk_C             5\n",
       "Score_MV           3\n",
       "Risk_D           327\n",
       "District_Loss      3\n",
       "PROB               3\n",
       "RiSk_E             5\n",
       "Prob               3\n",
       "Risk_F             7\n",
       "Inherent_Risk    583\n",
       "CONTROL_RISK      11\n",
       "Audit_Risk       600\n",
       "Risk               2\n",
       "dtype: int64"
      ]
     },
     "execution_count": 87,
     "metadata": {},
     "output_type": "execute_result"
    }
   ],
   "source": [
    "data.nunique()"
   ]
  },
  {
   "cell_type": "markdown",
   "metadata": {},
   "source": [
    "# this is our final dataset. lets save it for later use"
   ]
  },
  {
   "cell_type": "code",
   "execution_count": 88,
   "metadata": {},
   "outputs": [],
   "source": [
    "data.to_csv('audit.csv', index=False)"
   ]
  },
  {
   "cell_type": "code",
   "execution_count": 2,
   "metadata": {},
   "outputs": [],
   "source": [
    "data = pd.read_csv(\"audit.csv\")"
   ]
  },
  {
   "cell_type": "markdown",
   "metadata": {},
   "source": [
    "# Numerical Features Analysis"
   ]
  },
  {
   "cell_type": "code",
   "execution_count": null,
   "metadata": {},
   "outputs": [],
   "source": []
  },
  {
   "cell_type": "code",
   "execution_count": 66,
   "metadata": {},
   "outputs": [],
   "source": []
  },
  {
   "cell_type": "code",
   "execution_count": null,
   "metadata": {},
   "outputs": [],
   "source": []
  },
  {
   "cell_type": "code",
   "execution_count": 111,
   "metadata": {},
   "outputs": [
    {
     "data": {
      "image/png": "[encoded data removed]",
      "text/plain": [
       "<Figure size 432x288 with 1 Axes>"
      ]
     },
     "metadata": {
      "needs_background": "light"
     },
     "output_type": "display_data"
    }
   ],
   "source": [
    "sns.distplot(data['PARA_A'],bins=30)\n",
    "# sns.distplot(data['PARA_A'],bins=30, kde=False)\n",
    "plt.show()"
   ]
  },
  {
   "cell_type": "code",
   "execution_count": 112,
   "metadata": {},
   "outputs": [
    {
     "data": {
      "image/png": "[encoded data removed]",
      "text/plain": [
       "<Figure size 806.4x288 with 2 Axes>"
      ]
     },
     "metadata": {
      "needs_background": "light"
     },
     "output_type": "display_data"
    }
   ],
   "source": [
    "# distribution \n",
    "g = sns.FacetGrid(data, col='Risk',size=4, aspect=1.4)\n",
    "g.map(plt.hist, 'PARA_A', bins=30)\n",
    "plt.show()"
   ]
  },
  {
   "cell_type": "code",
   "execution_count": 113,
   "metadata": {},
   "outputs": [
    {
     "data": {
      "image/png": "[encoded data removed]",
      "text/plain": [
       "<Figure size 432x288 with 1 Axes>"
      ]
     },
     "metadata": {
      "needs_background": "light"
     },
     "output_type": "display_data"
    }
   ],
   "source": [
    "sns.distplot(data['Risk_A'],bins=30)\n",
    "# sns.distplot(data['PARA_A'],bins=30, kde=False)\n",
    "plt.show()"
   ]
  },
  {
   "cell_type": "code",
   "execution_count": 114,
   "metadata": {},
   "outputs": [
    {
     "data": {
      "image/png": "[encoded data removed]",
      "text/plain": [
       "<Figure size 806.4x288 with 2 Axes>"
      ]
     },
     "metadata": {
      "needs_background": "light"
     },
     "output_type": "display_data"
    }
   ],
   "source": [
    "# distribution \n",
    "g = sns.FacetGrid(data, col='Risk',size=4, aspect=1.4)\n",
    "g.map(plt.hist, 'Risk_A', bins=30)\n",
    "plt.show()"
   ]
  },
  {
   "cell_type": "code",
   "execution_count": 115,
   "metadata": {},
   "outputs": [
    {
     "data": {
      "text/plain": [
       "Index(['Sector_score', 'LOCATION_ID', 'PARA_A', 'Score_A', 'PARA_B', 'Score_B',\n",
       "       'TOTAL', 'numbers', 'Marks', 'Money_Value', 'MONEY_Marks', 'District',\n",
       "       'Loss', 'LOSS_SCORE', 'History', 'History_score', 'Score', 'Risk_A',\n",
       "       'Risk_B', 'Score_B.1', 'Risk_C', 'Score_MV', 'Risk_D', 'District_Loss',\n",
       "       'PROB', 'RiSk_E', 'Prob', 'Risk_F', 'Inherent_Risk', 'CONTROL_RISK',\n",
       "       'Audit_Risk', 'Risk'],\n",
       "      dtype='object')"
      ]
     },
     "execution_count": 115,
     "metadata": {},
     "output_type": "execute_result"
    }
   ],
   "source": [
    "data.columns"
   ]
  },
  {
   "cell_type": "markdown",
   "metadata": {},
   "source": [
    "# how each columns affects the final results "
   ]
  },
  {
   "cell_type": "code",
   "execution_count": 94,
   "metadata": {},
   "outputs": [
    {
     "data": {
      "text/plain": [
       "0.00     139\n",
       "0.51       8\n",
       "0.84       7\n",
       "0.49       7\n",
       "0.56       7\n",
       "        ... \n",
       "4.90       1\n",
       "1.51       1\n",
       "16.36      1\n",
       "1.81       1\n",
       "2.86       1\n",
       "Name: PARA_A, Length: 362, dtype: int64"
      ]
     },
     "execution_count": 94,
     "metadata": {},
     "output_type": "execute_result"
    }
   ],
   "source": [
    "\n",
    "data.PARA_A.value_counts()"
   ]
  },
  {
   "cell_type": "code",
   "execution_count": 95,
   "metadata": {},
   "outputs": [
    {
     "data": {
      "text/html": [
       "<div>\n",
       "<style scoped>\n",
       "    .dataframe tbody tr th:only-of-type {\n",
       "        vertical-align: middle;\n",
       "    }\n",
       "\n",
       "    .dataframe tbody tr th {\n",
       "        vertical-align: top;\n",
       "    }\n",
       "\n",
       "    .dataframe thead th {\n",
       "        text-align: right;\n",
       "    }\n",
       "</style>\n",
       "<table border=\"1\" class=\"dataframe\">\n",
       "  <thead>\n",
       "    <tr style=\"text-align: right;\">\n",
       "      <th>PARA_A</th>\n",
       "      <th>0.0000</th>\n",
       "      <th>0.0006</th>\n",
       "      <th>0.0100</th>\n",
       "      <th>0.0200</th>\n",
       "      <th>0.0300</th>\n",
       "      <th>0.0400</th>\n",
       "      <th>0.0500</th>\n",
       "      <th>0.0600</th>\n",
       "      <th>0.0700</th>\n",
       "      <th>0.0900</th>\n",
       "      <th>...</th>\n",
       "      <th>17.2600</th>\n",
       "      <th>17.5300</th>\n",
       "      <th>19.2100</th>\n",
       "      <th>20.0400</th>\n",
       "      <th>20.6500</th>\n",
       "      <th>25.4000</th>\n",
       "      <th>45.2300</th>\n",
       "      <th>57.0300</th>\n",
       "      <th>71.4800</th>\n",
       "      <th>85.0000</th>\n",
       "    </tr>\n",
       "    <tr>\n",
       "      <th>Risk</th>\n",
       "      <th></th>\n",
       "      <th></th>\n",
       "      <th></th>\n",
       "      <th></th>\n",
       "      <th></th>\n",
       "      <th></th>\n",
       "      <th></th>\n",
       "      <th></th>\n",
       "      <th></th>\n",
       "      <th></th>\n",
       "      <th></th>\n",
       "      <th></th>\n",
       "      <th></th>\n",
       "      <th></th>\n",
       "      <th></th>\n",
       "      <th></th>\n",
       "      <th></th>\n",
       "      <th></th>\n",
       "      <th></th>\n",
       "      <th></th>\n",
       "      <th></th>\n",
       "    </tr>\n",
       "  </thead>\n",
       "  <tbody>\n",
       "    <tr>\n",
       "      <th>0.0</th>\n",
       "      <td>111</td>\n",
       "      <td>0</td>\n",
       "      <td>4</td>\n",
       "      <td>5</td>\n",
       "      <td>3</td>\n",
       "      <td>1</td>\n",
       "      <td>1</td>\n",
       "      <td>1</td>\n",
       "      <td>2</td>\n",
       "      <td>3</td>\n",
       "      <td>...</td>\n",
       "      <td>0</td>\n",
       "      <td>0</td>\n",
       "      <td>0</td>\n",
       "      <td>0</td>\n",
       "      <td>0</td>\n",
       "      <td>0</td>\n",
       "      <td>0</td>\n",
       "      <td>0</td>\n",
       "      <td>0</td>\n",
       "      <td>0</td>\n",
       "    </tr>\n",
       "    <tr>\n",
       "      <th>1.0</th>\n",
       "      <td>28</td>\n",
       "      <td>1</td>\n",
       "      <td>1</td>\n",
       "      <td>0</td>\n",
       "      <td>0</td>\n",
       "      <td>0</td>\n",
       "      <td>1</td>\n",
       "      <td>0</td>\n",
       "      <td>1</td>\n",
       "      <td>0</td>\n",
       "      <td>...</td>\n",
       "      <td>1</td>\n",
       "      <td>1</td>\n",
       "      <td>1</td>\n",
       "      <td>1</td>\n",
       "      <td>1</td>\n",
       "      <td>1</td>\n",
       "      <td>1</td>\n",
       "      <td>1</td>\n",
       "      <td>1</td>\n",
       "      <td>1</td>\n",
       "    </tr>\n",
       "  </tbody>\n",
       "</table>\n",
       "<p>2 rows × 362 columns</p>\n",
       "</div>"
      ],
      "text/plain": [
       "PARA_A  0.0000   0.0006   0.0100   0.0200   0.0300   0.0400   0.0500   \\\n",
       "Risk                                                                    \n",
       "0.0         111        0        4        5        3        1        1   \n",
       "1.0          28        1        1        0        0        0        1   \n",
       "\n",
       "PARA_A  0.0600   0.0700   0.0900   ...  17.2600  17.5300  19.2100  20.0400  \\\n",
       "Risk                               ...                                       \n",
       "0.0           1        2        3  ...        0        0        0        0   \n",
       "1.0           0        1        0  ...        1        1        1        1   \n",
       "\n",
       "PARA_A  20.6500  25.4000  45.2300  57.0300  71.4800  85.0000  \n",
       "Risk                                                          \n",
       "0.0           0        0        0        0        0        0  \n",
       "1.0           1        1        1        1        1        1  \n",
       "\n",
       "[2 rows x 362 columns]"
      ]
     },
     "execution_count": 95,
     "metadata": {},
     "output_type": "execute_result"
    }
   ],
   "source": [
    "# Compare Risk column with PARA_A column\n",
    "pd.crosstab(data.Risk, data.PARA_A)"
   ]
  },
  {
   "cell_type": "code",
   "execution_count": 101,
   "metadata": {},
   "outputs": [
    {
     "data": {
      "text/plain": [
       "Text(0, 0.5, 'Risk')"
      ]
     },
     "execution_count": 101,
     "metadata": {},
     "output_type": "execute_result"
    },
    {
     "data": {
      "image/png": "[encoded data removed]",
      "text/plain": [
       "<Figure size 1440x720 with 1 Axes>"
      ]
     },
     "metadata": {
      "needs_background": "light"
     },
     "output_type": "display_data"
    }
   ],
   "source": [
    "# Create a plot between Risk column with PARA_A column\n",
    "pd.crosstab(data.PARA_A, data.Risk).plot(kind=\"bar\", \n",
    "                                    figsize=(20,10), \n",
    "                                    color=[\"red\", \"lime\"]);\n",
    "plt.xlabel(\"0 = No Risk, 1 = In Risk\")\n",
    "plt.ylabel(\"Risk\")"
   ]
  },
  {
   "cell_type": "code",
   "execution_count": 102,
   "metadata": {},
   "outputs": [
    {
     "data": {
      "image/png": "[encoded data removed]",
      "text/plain": [
       "<Figure size 432x288 with 1 Axes>"
      ]
     },
     "metadata": {
      "needs_background": "light"
     },
     "output_type": "display_data"
    }
   ],
   "source": [
    "data.Money_Value.plot.hist();"
   ]
  },
  {
   "cell_type": "code",
   "execution_count": 103,
   "metadata": {},
   "outputs": [
    {
     "data": {
      "image/png": "[encoded data removed]",
      "text/plain": [
       "<Figure size 432x288 with 1 Axes>"
      ]
     },
     "metadata": {
      "needs_background": "light"
     },
     "output_type": "display_data"
    }
   ],
   "source": [
    "data.TOTAL.plot.hist();"
   ]
  },
  {
   "cell_type": "code",
   "execution_count": 104,
   "metadata": {
    "scrolled": true
   },
   "outputs": [
    {
     "data": {
      "image/png": "[encoded data removed]",
      "text/plain": [
       "<Figure size 432x288 with 1 Axes>"
      ]
     },
     "metadata": {
      "needs_background": "light"
     },
     "output_type": "display_data"
    }
   ],
   "source": [
    "data.Score.plot.hist();"
   ]
  },
  {
   "cell_type": "code",
   "execution_count": 106,
   "metadata": {},
   "outputs": [
    {
     "data": {
      "image/png": "[encoded data removed]",
      "text/plain": [
       "<Figure size 432x288 with 1 Axes>"
      ]
     },
     "metadata": {
      "needs_background": "light"
     },
     "output_type": "display_data"
    }
   ],
   "source": [
    "data.LOCATION_ID.plot.hist();"
   ]
  },
  {
   "cell_type": "code",
   "execution_count": 107,
   "metadata": {},
   "outputs": [
    {
     "data": {
      "image/png": "[encoded data removed]",
      "text/plain": [
       "<Figure size 432x288 with 1 Axes>"
      ]
     },
     "metadata": {
      "needs_background": "light"
     },
     "output_type": "display_data"
    }
   ],
   "source": [
    "data.Marks.plot.hist();"
   ]
  },
  {
   "cell_type": "code",
   "execution_count": 108,
   "metadata": {
    "scrolled": true
   },
   "outputs": [
    {
     "data": {
      "image/png": "[encoded data removed]",
      "text/plain": [
       "<Figure size 432x288 with 1 Axes>"
      ]
     },
     "metadata": {
      "needs_background": "light"
     },
     "output_type": "display_data"
    }
   ],
   "source": [
    "data.Inherent_Risk.plot.hist();"
   ]
  },
  {
   "cell_type": "code",
   "execution_count": 109,
   "metadata": {},
   "outputs": [
    {
     "data": {
      "image/png": "[encoded data removed]",
      "text/plain": [
       "<Figure size 432x288 with 1 Axes>"
      ]
     },
     "metadata": {
      "needs_background": "light"
     },
     "output_type": "display_data"
    }
   ],
   "source": [
    "data.Audit_Risk.plot.hist();"
   ]
  },
  {
   "cell_type": "markdown",
   "metadata": {},
   "source": [
    "# Correlation between independent variables"
   ]
  },
  {
   "cell_type": "code",
   "execution_count": 89,
   "metadata": {},
   "outputs": [
    {
     "data": {
      "text/html": [
       "<div>\n",
       "<style scoped>\n",
       "    .dataframe tbody tr th:only-of-type {\n",
       "        vertical-align: middle;\n",
       "    }\n",
       "\n",
       "    .dataframe tbody tr th {\n",
       "        vertical-align: top;\n",
       "    }\n",
       "\n",
       "    .dataframe thead th {\n",
       "        text-align: right;\n",
       "    }\n",
       "</style>\n",
       "<table border=\"1\" class=\"dataframe\">\n",
       "  <thead>\n",
       "    <tr style=\"text-align: right;\">\n",
       "      <th></th>\n",
       "      <th>Sector_score</th>\n",
       "      <th>LOCATION_ID</th>\n",
       "      <th>PARA_A</th>\n",
       "      <th>Score_A</th>\n",
       "      <th>PARA_B</th>\n",
       "      <th>Score_B</th>\n",
       "      <th>TOTAL</th>\n",
       "      <th>numbers</th>\n",
       "      <th>Marks</th>\n",
       "      <th>Money_Value</th>\n",
       "      <th>...</th>\n",
       "      <th>Risk_D</th>\n",
       "      <th>District_Loss</th>\n",
       "      <th>PROB</th>\n",
       "      <th>RiSk_E</th>\n",
       "      <th>Prob</th>\n",
       "      <th>Risk_F</th>\n",
       "      <th>Inherent_Risk</th>\n",
       "      <th>CONTROL_RISK</th>\n",
       "      <th>Audit_Risk</th>\n",
       "      <th>Risk</th>\n",
       "    </tr>\n",
       "  </thead>\n",
       "  <tbody>\n",
       "    <tr>\n",
       "      <th>Sector_score</th>\n",
       "      <td>1.000000</td>\n",
       "      <td>-0.051794</td>\n",
       "      <td>-0.213811</td>\n",
       "      <td>-0.421641</td>\n",
       "      <td>-0.131503</td>\n",
       "      <td>-0.212795</td>\n",
       "      <td>-0.151850</td>\n",
       "      <td>-0.150368</td>\n",
       "      <td>-0.168660</td>\n",
       "      <td>-0.116026</td>\n",
       "      <td>...</td>\n",
       "      <td>-0.114822</td>\n",
       "      <td>-0.110358</td>\n",
       "      <td>-0.085566</td>\n",
       "      <td>-0.130023</td>\n",
       "      <td>-0.135307</td>\n",
       "      <td>-0.102163</td>\n",
       "      <td>-0.171574</td>\n",
       "      <td>-0.155149</td>\n",
       "      <td>-0.090699</td>\n",
       "      <td>-0.394598</td>\n",
       "    </tr>\n",
       "    <tr>\n",
       "      <th>LOCATION_ID</th>\n",
       "      <td>-0.051794</td>\n",
       "      <td>1.000000</td>\n",
       "      <td>-0.006683</td>\n",
       "      <td>0.079342</td>\n",
       "      <td>0.006571</td>\n",
       "      <td>0.125494</td>\n",
       "      <td>0.006489</td>\n",
       "      <td>0.006733</td>\n",
       "      <td>-0.017658</td>\n",
       "      <td>-0.066841</td>\n",
       "      <td>...</td>\n",
       "      <td>-0.066920</td>\n",
       "      <td>-0.105425</td>\n",
       "      <td>-0.003441</td>\n",
       "      <td>-0.096895</td>\n",
       "      <td>-0.054217</td>\n",
       "      <td>-0.089099</td>\n",
       "      <td>-0.046844</td>\n",
       "      <td>-0.124561</td>\n",
       "      <td>-0.086624</td>\n",
       "      <td>0.063133</td>\n",
       "    </tr>\n",
       "    <tr>\n",
       "      <th>PARA_A</th>\n",
       "      <td>-0.213811</td>\n",
       "      <td>-0.006683</td>\n",
       "      <td>1.000000</td>\n",
       "      <td>0.493972</td>\n",
       "      <td>0.160441</td>\n",
       "      <td>0.355073</td>\n",
       "      <td>0.265487</td>\n",
       "      <td>0.131895</td>\n",
       "      <td>0.138465</td>\n",
       "      <td>0.448462</td>\n",
       "      <td>...</td>\n",
       "      <td>0.447771</td>\n",
       "      <td>0.127190</td>\n",
       "      <td>0.042365</td>\n",
       "      <td>0.117772</td>\n",
       "      <td>0.170914</td>\n",
       "      <td>0.102678</td>\n",
       "      <td>0.480600</td>\n",
       "      <td>0.147524</td>\n",
       "      <td>0.218696</td>\n",
       "      <td>0.376395</td>\n",
       "    </tr>\n",
       "    <tr>\n",
       "      <th>Score_A</th>\n",
       "      <td>-0.421641</td>\n",
       "      <td>0.079342</td>\n",
       "      <td>0.493972</td>\n",
       "      <td>1.000000</td>\n",
       "      <td>0.247596</td>\n",
       "      <td>0.567626</td>\n",
       "      <td>0.295440</td>\n",
       "      <td>0.240088</td>\n",
       "      <td>0.271606</td>\n",
       "      <td>0.203894</td>\n",
       "      <td>...</td>\n",
       "      <td>0.201598</td>\n",
       "      <td>0.086135</td>\n",
       "      <td>0.091382</td>\n",
       "      <td>0.099628</td>\n",
       "      <td>0.263077</td>\n",
       "      <td>0.148952</td>\n",
       "      <td>0.318338</td>\n",
       "      <td>0.167616</td>\n",
       "      <td>0.200284</td>\n",
       "      <td>0.616781</td>\n",
       "    </tr>\n",
       "    <tr>\n",
       "      <th>PARA_B</th>\n",
       "      <td>-0.131503</td>\n",
       "      <td>0.006571</td>\n",
       "      <td>0.160441</td>\n",
       "      <td>0.247596</td>\n",
       "      <td>1.000000</td>\n",
       "      <td>0.346339</td>\n",
       "      <td>0.994110</td>\n",
       "      <td>0.208941</td>\n",
       "      <td>0.229836</td>\n",
       "      <td>0.124192</td>\n",
       "      <td>...</td>\n",
       "      <td>0.123851</td>\n",
       "      <td>0.082613</td>\n",
       "      <td>0.041835</td>\n",
       "      <td>0.078764</td>\n",
       "      <td>0.315779</td>\n",
       "      <td>0.195412</td>\n",
       "      <td>0.654034</td>\n",
       "      <td>0.186064</td>\n",
       "      <td>0.887719</td>\n",
       "      <td>0.255977</td>\n",
       "    </tr>\n",
       "    <tr>\n",
       "      <th>Score_B</th>\n",
       "      <td>-0.212795</td>\n",
       "      <td>0.125494</td>\n",
       "      <td>0.355073</td>\n",
       "      <td>0.567626</td>\n",
       "      <td>0.346339</td>\n",
       "      <td>1.000000</td>\n",
       "      <td>0.377785</td>\n",
       "      <td>0.275464</td>\n",
       "      <td>0.311398</td>\n",
       "      <td>0.203168</td>\n",
       "      <td>...</td>\n",
       "      <td>0.200303</td>\n",
       "      <td>-0.007660</td>\n",
       "      <td>0.090701</td>\n",
       "      <td>0.012102</td>\n",
       "      <td>0.307683</td>\n",
       "      <td>0.169659</td>\n",
       "      <td>0.363547</td>\n",
       "      <td>0.124880</td>\n",
       "      <td>0.206536</td>\n",
       "      <td>0.633899</td>\n",
       "    </tr>\n",
       "    <tr>\n",
       "      <th>TOTAL</th>\n",
       "      <td>-0.151850</td>\n",
       "      <td>0.006489</td>\n",
       "      <td>0.265487</td>\n",
       "      <td>0.295440</td>\n",
       "      <td>0.994110</td>\n",
       "      <td>0.377785</td>\n",
       "      <td>1.000000</td>\n",
       "      <td>0.216565</td>\n",
       "      <td>0.237031</td>\n",
       "      <td>0.167723</td>\n",
       "      <td>...</td>\n",
       "      <td>0.167313</td>\n",
       "      <td>0.092941</td>\n",
       "      <td>0.045629</td>\n",
       "      <td>0.088456</td>\n",
       "      <td>0.325504</td>\n",
       "      <td>0.201421</td>\n",
       "      <td>0.689291</td>\n",
       "      <td>0.196520</td>\n",
       "      <td>0.888049</td>\n",
       "      <td>0.290738</td>\n",
       "    </tr>\n",
       "    <tr>\n",
       "      <th>numbers</th>\n",
       "      <td>-0.150368</td>\n",
       "      <td>0.006733</td>\n",
       "      <td>0.131895</td>\n",
       "      <td>0.240088</td>\n",
       "      <td>0.208941</td>\n",
       "      <td>0.275464</td>\n",
       "      <td>0.216565</td>\n",
       "      <td>1.000000</td>\n",
       "      <td>0.908008</td>\n",
       "      <td>0.185258</td>\n",
       "      <td>...</td>\n",
       "      <td>0.185667</td>\n",
       "      <td>0.124836</td>\n",
       "      <td>0.034952</td>\n",
       "      <td>0.136477</td>\n",
       "      <td>0.208547</td>\n",
       "      <td>0.201644</td>\n",
       "      <td>0.269955</td>\n",
       "      <td>0.227956</td>\n",
       "      <td>0.220735</td>\n",
       "      <td>0.306969</td>\n",
       "    </tr>\n",
       "    <tr>\n",
       "      <th>Marks</th>\n",
       "      <td>-0.168660</td>\n",
       "      <td>-0.017658</td>\n",
       "      <td>0.138465</td>\n",
       "      <td>0.271606</td>\n",
       "      <td>0.229836</td>\n",
       "      <td>0.311398</td>\n",
       "      <td>0.237031</td>\n",
       "      <td>0.908008</td>\n",
       "      <td>1.000000</td>\n",
       "      <td>0.219330</td>\n",
       "      <td>...</td>\n",
       "      <td>0.219657</td>\n",
       "      <td>0.150249</td>\n",
       "      <td>0.035916</td>\n",
       "      <td>0.157076</td>\n",
       "      <td>0.247275</td>\n",
       "      <td>0.222529</td>\n",
       "      <td>0.307269</td>\n",
       "      <td>0.255776</td>\n",
       "      <td>0.258963</td>\n",
       "      <td>0.352519</td>\n",
       "    </tr>\n",
       "    <tr>\n",
       "      <th>Money_Value</th>\n",
       "      <td>-0.116026</td>\n",
       "      <td>-0.066841</td>\n",
       "      <td>0.448462</td>\n",
       "      <td>0.203894</td>\n",
       "      <td>0.124192</td>\n",
       "      <td>0.203168</td>\n",
       "      <td>0.167723</td>\n",
       "      <td>0.185258</td>\n",
       "      <td>0.219330</td>\n",
       "      <td>1.000000</td>\n",
       "      <td>...</td>\n",
       "      <td>0.999911</td>\n",
       "      <td>0.027515</td>\n",
       "      <td>0.031072</td>\n",
       "      <td>0.032174</td>\n",
       "      <td>0.111208</td>\n",
       "      <td>0.068965</td>\n",
       "      <td>0.829537</td>\n",
       "      <td>0.068517</td>\n",
       "      <td>0.333528</td>\n",
       "      <td>0.255892</td>\n",
       "    </tr>\n",
       "    <tr>\n",
       "      <th>MONEY_Marks</th>\n",
       "      <td>-0.316154</td>\n",
       "      <td>0.107431</td>\n",
       "      <td>0.282525</td>\n",
       "      <td>0.473838</td>\n",
       "      <td>0.313190</td>\n",
       "      <td>0.564161</td>\n",
       "      <td>0.335786</td>\n",
       "      <td>0.445426</td>\n",
       "      <td>0.505901</td>\n",
       "      <td>0.390281</td>\n",
       "      <td>...</td>\n",
       "      <td>0.390079</td>\n",
       "      <td>0.079422</td>\n",
       "      <td>0.128418</td>\n",
       "      <td>0.102460</td>\n",
       "      <td>0.333109</td>\n",
       "      <td>0.215676</td>\n",
       "      <td>0.480913</td>\n",
       "      <td>0.215473</td>\n",
       "      <td>0.290696</td>\n",
       "      <td>0.687661</td>\n",
       "    </tr>\n",
       "    <tr>\n",
       "      <th>District</th>\n",
       "      <td>-0.110358</td>\n",
       "      <td>-0.105425</td>\n",
       "      <td>0.127190</td>\n",
       "      <td>0.086135</td>\n",
       "      <td>0.082613</td>\n",
       "      <td>-0.007660</td>\n",
       "      <td>0.092941</td>\n",
       "      <td>0.124836</td>\n",
       "      <td>0.150249</td>\n",
       "      <td>0.027515</td>\n",
       "      <td>...</td>\n",
       "      <td>0.027798</td>\n",
       "      <td>1.000000</td>\n",
       "      <td>0.054977</td>\n",
       "      <td>0.912585</td>\n",
       "      <td>0.083471</td>\n",
       "      <td>0.070427</td>\n",
       "      <td>0.080402</td>\n",
       "      <td>0.643028</td>\n",
       "      <td>0.199992</td>\n",
       "      <td>0.398453</td>\n",
       "    </tr>\n",
       "    <tr>\n",
       "      <th>Loss</th>\n",
       "      <td>-0.081971</td>\n",
       "      <td>0.006409</td>\n",
       "      <td>0.044089</td>\n",
       "      <td>0.091151</td>\n",
       "      <td>0.044117</td>\n",
       "      <td>0.097092</td>\n",
       "      <td>0.048045</td>\n",
       "      <td>-0.002354</td>\n",
       "      <td>0.003765</td>\n",
       "      <td>0.023834</td>\n",
       "      <td>...</td>\n",
       "      <td>0.023952</td>\n",
       "      <td>0.035920</td>\n",
       "      <td>0.981500</td>\n",
       "      <td>0.369300</td>\n",
       "      <td>0.103762</td>\n",
       "      <td>0.053629</td>\n",
       "      <td>0.046958</td>\n",
       "      <td>0.277546</td>\n",
       "      <td>0.048736</td>\n",
       "      <td>0.170357</td>\n",
       "    </tr>\n",
       "    <tr>\n",
       "      <th>LOSS_SCORE</th>\n",
       "      <td>-0.085566</td>\n",
       "      <td>-0.003441</td>\n",
       "      <td>0.042365</td>\n",
       "      <td>0.091382</td>\n",
       "      <td>0.041835</td>\n",
       "      <td>0.090701</td>\n",
       "      <td>0.045629</td>\n",
       "      <td>0.034952</td>\n",
       "      <td>0.035916</td>\n",
       "      <td>0.031072</td>\n",
       "      <td>...</td>\n",
       "      <td>0.031219</td>\n",
       "      <td>0.054977</td>\n",
       "      <td>1.000000</td>\n",
       "      <td>0.407674</td>\n",
       "      <td>0.140745</td>\n",
       "      <td>0.105490</td>\n",
       "      <td>0.051730</td>\n",
       "      <td>0.338307</td>\n",
       "      <td>0.073262</td>\n",
       "      <td>0.175909</td>\n",
       "    </tr>\n",
       "    <tr>\n",
       "      <th>History</th>\n",
       "      <td>-0.113601</td>\n",
       "      <td>-0.081820</td>\n",
       "      <td>0.116832</td>\n",
       "      <td>0.175807</td>\n",
       "      <td>0.202873</td>\n",
       "      <td>0.199095</td>\n",
       "      <td>0.209926</td>\n",
       "      <td>0.201488</td>\n",
       "      <td>0.225253</td>\n",
       "      <td>0.079274</td>\n",
       "      <td>...</td>\n",
       "      <td>0.079051</td>\n",
       "      <td>0.069022</td>\n",
       "      <td>0.109455</td>\n",
       "      <td>0.109735</td>\n",
       "      <td>0.859175</td>\n",
       "      <td>0.991986</td>\n",
       "      <td>0.184633</td>\n",
       "      <td>0.755557</td>\n",
       "      <td>0.329284</td>\n",
       "      <td>0.238507</td>\n",
       "    </tr>\n",
       "    <tr>\n",
       "      <th>History_score</th>\n",
       "      <td>-0.135307</td>\n",
       "      <td>-0.054217</td>\n",
       "      <td>0.170914</td>\n",
       "      <td>0.263077</td>\n",
       "      <td>0.315779</td>\n",
       "      <td>0.307683</td>\n",
       "      <td>0.325504</td>\n",
       "      <td>0.208547</td>\n",
       "      <td>0.247275</td>\n",
       "      <td>0.111208</td>\n",
       "      <td>...</td>\n",
       "      <td>0.110535</td>\n",
       "      <td>0.083471</td>\n",
       "      <td>0.140745</td>\n",
       "      <td>0.123176</td>\n",
       "      <td>1.000000</td>\n",
       "      <td>0.815486</td>\n",
       "      <td>0.272703</td>\n",
       "      <td>0.642598</td>\n",
       "      <td>0.430811</td>\n",
       "      <td>0.297511</td>\n",
       "    </tr>\n",
       "    <tr>\n",
       "      <th>Score</th>\n",
       "      <td>-0.332848</td>\n",
       "      <td>0.087813</td>\n",
       "      <td>0.423428</td>\n",
       "      <td>0.716534</td>\n",
       "      <td>0.396431</td>\n",
       "      <td>0.900436</td>\n",
       "      <td>0.432790</td>\n",
       "      <td>0.502288</td>\n",
       "      <td>0.565380</td>\n",
       "      <td>0.290264</td>\n",
       "      <td>...</td>\n",
       "      <td>0.288114</td>\n",
       "      <td>0.208063</td>\n",
       "      <td>0.166142</td>\n",
       "      <td>0.234282</td>\n",
       "      <td>0.442549</td>\n",
       "      <td>0.292747</td>\n",
       "      <td>0.463532</td>\n",
       "      <td>0.354491</td>\n",
       "      <td>0.332387</td>\n",
       "      <td>0.784615</td>\n",
       "    </tr>\n",
       "    <tr>\n",
       "      <th>Risk_A</th>\n",
       "      <td>-0.216684</td>\n",
       "      <td>-0.004351</td>\n",
       "      <td>0.999277</td>\n",
       "      <td>0.502607</td>\n",
       "      <td>0.163874</td>\n",
       "      <td>0.359800</td>\n",
       "      <td>0.268754</td>\n",
       "      <td>0.133833</td>\n",
       "      <td>0.141052</td>\n",
       "      <td>0.447860</td>\n",
       "      <td>...</td>\n",
       "      <td>0.447137</td>\n",
       "      <td>0.126781</td>\n",
       "      <td>0.042471</td>\n",
       "      <td>0.117523</td>\n",
       "      <td>0.174539</td>\n",
       "      <td>0.105335</td>\n",
       "      <td>0.482086</td>\n",
       "      <td>0.149194</td>\n",
       "      <td>0.220566</td>\n",
       "      <td>0.383005</td>\n",
       "    </tr>\n",
       "    <tr>\n",
       "      <th>Risk_B</th>\n",
       "      <td>-0.129455</td>\n",
       "      <td>0.006200</td>\n",
       "      <td>0.160372</td>\n",
       "      <td>0.246416</td>\n",
       "      <td>0.999936</td>\n",
       "      <td>0.346985</td>\n",
       "      <td>0.994037</td>\n",
       "      <td>0.208702</td>\n",
       "      <td>0.229556</td>\n",
       "      <td>0.124247</td>\n",
       "      <td>...</td>\n",
       "      <td>0.123914</td>\n",
       "      <td>0.082818</td>\n",
       "      <td>0.042176</td>\n",
       "      <td>0.079124</td>\n",
       "      <td>0.315631</td>\n",
       "      <td>0.194669</td>\n",
       "      <td>0.654101</td>\n",
       "      <td>0.185786</td>\n",
       "      <td>0.887493</td>\n",
       "      <td>0.254281</td>\n",
       "    </tr>\n",
       "    <tr>\n",
       "      <th>Score_B.1</th>\n",
       "      <td>-0.168660</td>\n",
       "      <td>-0.017658</td>\n",
       "      <td>0.138465</td>\n",
       "      <td>0.271606</td>\n",
       "      <td>0.229836</td>\n",
       "      <td>0.311398</td>\n",
       "      <td>0.237031</td>\n",
       "      <td>0.908008</td>\n",
       "      <td>1.000000</td>\n",
       "      <td>0.219330</td>\n",
       "      <td>...</td>\n",
       "      <td>0.219657</td>\n",
       "      <td>0.150249</td>\n",
       "      <td>0.035916</td>\n",
       "      <td>0.157076</td>\n",
       "      <td>0.247275</td>\n",
       "      <td>0.222529</td>\n",
       "      <td>0.307269</td>\n",
       "      <td>0.255776</td>\n",
       "      <td>0.258963</td>\n",
       "      <td>0.352519</td>\n",
       "    </tr>\n",
       "    <tr>\n",
       "      <th>Risk_C</th>\n",
       "      <td>-0.164809</td>\n",
       "      <td>-0.015126</td>\n",
       "      <td>0.138353</td>\n",
       "      <td>0.263094</td>\n",
       "      <td>0.222061</td>\n",
       "      <td>0.300677</td>\n",
       "      <td>0.229521</td>\n",
       "      <td>0.955243</td>\n",
       "      <td>0.990396</td>\n",
       "      <td>0.214322</td>\n",
       "      <td>...</td>\n",
       "      <td>0.214695</td>\n",
       "      <td>0.146126</td>\n",
       "      <td>0.035267</td>\n",
       "      <td>0.154212</td>\n",
       "      <td>0.236598</td>\n",
       "      <td>0.218052</td>\n",
       "      <td>0.299401</td>\n",
       "      <td>0.250823</td>\n",
       "      <td>0.249262</td>\n",
       "      <td>0.340888</td>\n",
       "    </tr>\n",
       "    <tr>\n",
       "      <th>Score_MV</th>\n",
       "      <td>-0.316154</td>\n",
       "      <td>0.107431</td>\n",
       "      <td>0.282525</td>\n",
       "      <td>0.473838</td>\n",
       "      <td>0.313190</td>\n",
       "      <td>0.564161</td>\n",
       "      <td>0.335786</td>\n",
       "      <td>0.445426</td>\n",
       "      <td>0.505901</td>\n",
       "      <td>0.390281</td>\n",
       "      <td>...</td>\n",
       "      <td>0.390079</td>\n",
       "      <td>0.079422</td>\n",
       "      <td>0.128418</td>\n",
       "      <td>0.102460</td>\n",
       "      <td>0.333109</td>\n",
       "      <td>0.215676</td>\n",
       "      <td>0.480913</td>\n",
       "      <td>0.215473</td>\n",
       "      <td>0.290696</td>\n",
       "      <td>0.687661</td>\n",
       "    </tr>\n",
       "    <tr>\n",
       "      <th>Risk_D</th>\n",
       "      <td>-0.114822</td>\n",
       "      <td>-0.066920</td>\n",
       "      <td>0.447771</td>\n",
       "      <td>0.201598</td>\n",
       "      <td>0.123851</td>\n",
       "      <td>0.200303</td>\n",
       "      <td>0.167313</td>\n",
       "      <td>0.185667</td>\n",
       "      <td>0.219657</td>\n",
       "      <td>0.999911</td>\n",
       "      <td>...</td>\n",
       "      <td>1.000000</td>\n",
       "      <td>0.027798</td>\n",
       "      <td>0.031219</td>\n",
       "      <td>0.032421</td>\n",
       "      <td>0.110535</td>\n",
       "      <td>0.068860</td>\n",
       "      <td>0.829376</td>\n",
       "      <td>0.068605</td>\n",
       "      <td>0.333676</td>\n",
       "      <td>0.253396</td>\n",
       "    </tr>\n",
       "    <tr>\n",
       "      <th>District_Loss</th>\n",
       "      <td>-0.110358</td>\n",
       "      <td>-0.105425</td>\n",
       "      <td>0.127190</td>\n",
       "      <td>0.086135</td>\n",
       "      <td>0.082613</td>\n",
       "      <td>-0.007660</td>\n",
       "      <td>0.092941</td>\n",
       "      <td>0.124836</td>\n",
       "      <td>0.150249</td>\n",
       "      <td>0.027515</td>\n",
       "      <td>...</td>\n",
       "      <td>0.027798</td>\n",
       "      <td>1.000000</td>\n",
       "      <td>0.054977</td>\n",
       "      <td>0.912585</td>\n",
       "      <td>0.083471</td>\n",
       "      <td>0.070427</td>\n",
       "      <td>0.080402</td>\n",
       "      <td>0.643028</td>\n",
       "      <td>0.199992</td>\n",
       "      <td>0.398453</td>\n",
       "    </tr>\n",
       "    <tr>\n",
       "      <th>PROB</th>\n",
       "      <td>-0.085566</td>\n",
       "      <td>-0.003441</td>\n",
       "      <td>0.042365</td>\n",
       "      <td>0.091382</td>\n",
       "      <td>0.041835</td>\n",
       "      <td>0.090701</td>\n",
       "      <td>0.045629</td>\n",
       "      <td>0.034952</td>\n",
       "      <td>0.035916</td>\n",
       "      <td>0.031072</td>\n",
       "      <td>...</td>\n",
       "      <td>0.031219</td>\n",
       "      <td>0.054977</td>\n",
       "      <td>1.000000</td>\n",
       "      <td>0.407674</td>\n",
       "      <td>0.140745</td>\n",
       "      <td>0.105490</td>\n",
       "      <td>0.051730</td>\n",
       "      <td>0.338307</td>\n",
       "      <td>0.073262</td>\n",
       "      <td>0.175909</td>\n",
       "    </tr>\n",
       "    <tr>\n",
       "      <th>RiSk_E</th>\n",
       "      <td>-0.130023</td>\n",
       "      <td>-0.096895</td>\n",
       "      <td>0.117772</td>\n",
       "      <td>0.099628</td>\n",
       "      <td>0.078764</td>\n",
       "      <td>0.012102</td>\n",
       "      <td>0.088456</td>\n",
       "      <td>0.136477</td>\n",
       "      <td>0.157076</td>\n",
       "      <td>0.032174</td>\n",
       "      <td>...</td>\n",
       "      <td>0.032421</td>\n",
       "      <td>0.912585</td>\n",
       "      <td>0.407674</td>\n",
       "      <td>1.000000</td>\n",
       "      <td>0.123176</td>\n",
       "      <td>0.111444</td>\n",
       "      <td>0.081939</td>\n",
       "      <td>0.728255</td>\n",
       "      <td>0.203134</td>\n",
       "      <td>0.406693</td>\n",
       "    </tr>\n",
       "    <tr>\n",
       "      <th>Prob</th>\n",
       "      <td>-0.135307</td>\n",
       "      <td>-0.054217</td>\n",
       "      <td>0.170914</td>\n",
       "      <td>0.263077</td>\n",
       "      <td>0.315779</td>\n",
       "      <td>0.307683</td>\n",
       "      <td>0.325504</td>\n",
       "      <td>0.208547</td>\n",
       "      <td>0.247275</td>\n",
       "      <td>0.111208</td>\n",
       "      <td>...</td>\n",
       "      <td>0.110535</td>\n",
       "      <td>0.083471</td>\n",
       "      <td>0.140745</td>\n",
       "      <td>0.123176</td>\n",
       "      <td>1.000000</td>\n",
       "      <td>0.815486</td>\n",
       "      <td>0.272703</td>\n",
       "      <td>0.642598</td>\n",
       "      <td>0.430811</td>\n",
       "      <td>0.297511</td>\n",
       "    </tr>\n",
       "    <tr>\n",
       "      <th>Risk_F</th>\n",
       "      <td>-0.102163</td>\n",
       "      <td>-0.089099</td>\n",
       "      <td>0.102678</td>\n",
       "      <td>0.148952</td>\n",
       "      <td>0.195412</td>\n",
       "      <td>0.169659</td>\n",
       "      <td>0.201421</td>\n",
       "      <td>0.201644</td>\n",
       "      <td>0.222529</td>\n",
       "      <td>0.068965</td>\n",
       "      <td>...</td>\n",
       "      <td>0.068860</td>\n",
       "      <td>0.070427</td>\n",
       "      <td>0.105490</td>\n",
       "      <td>0.111444</td>\n",
       "      <td>0.815486</td>\n",
       "      <td>1.000000</td>\n",
       "      <td>0.172220</td>\n",
       "      <td>0.762196</td>\n",
       "      <td>0.327312</td>\n",
       "      <td>0.213657</td>\n",
       "    </tr>\n",
       "    <tr>\n",
       "      <th>Inherent_Risk</th>\n",
       "      <td>-0.171574</td>\n",
       "      <td>-0.046844</td>\n",
       "      <td>0.480600</td>\n",
       "      <td>0.318338</td>\n",
       "      <td>0.654034</td>\n",
       "      <td>0.363547</td>\n",
       "      <td>0.689291</td>\n",
       "      <td>0.269955</td>\n",
       "      <td>0.307269</td>\n",
       "      <td>0.829537</td>\n",
       "      <td>...</td>\n",
       "      <td>0.829376</td>\n",
       "      <td>0.080402</td>\n",
       "      <td>0.051730</td>\n",
       "      <td>0.081939</td>\n",
       "      <td>0.272703</td>\n",
       "      <td>0.172220</td>\n",
       "      <td>1.000000</td>\n",
       "      <td>0.172139</td>\n",
       "      <td>0.750742</td>\n",
       "      <td>0.355721</td>\n",
       "    </tr>\n",
       "    <tr>\n",
       "      <th>CONTROL_RISK</th>\n",
       "      <td>-0.155149</td>\n",
       "      <td>-0.124561</td>\n",
       "      <td>0.147524</td>\n",
       "      <td>0.167616</td>\n",
       "      <td>0.186064</td>\n",
       "      <td>0.124880</td>\n",
       "      <td>0.196520</td>\n",
       "      <td>0.227956</td>\n",
       "      <td>0.255776</td>\n",
       "      <td>0.068517</td>\n",
       "      <td>...</td>\n",
       "      <td>0.068605</td>\n",
       "      <td>0.643028</td>\n",
       "      <td>0.338307</td>\n",
       "      <td>0.728255</td>\n",
       "      <td>0.642598</td>\n",
       "      <td>0.762196</td>\n",
       "      <td>0.172139</td>\n",
       "      <td>1.000000</td>\n",
       "      <td>0.358037</td>\n",
       "      <td>0.412260</td>\n",
       "    </tr>\n",
       "    <tr>\n",
       "      <th>Audit_Risk</th>\n",
       "      <td>-0.090699</td>\n",
       "      <td>-0.086624</td>\n",
       "      <td>0.218696</td>\n",
       "      <td>0.200284</td>\n",
       "      <td>0.887719</td>\n",
       "      <td>0.206536</td>\n",
       "      <td>0.888049</td>\n",
       "      <td>0.220735</td>\n",
       "      <td>0.258963</td>\n",
       "      <td>0.333528</td>\n",
       "      <td>...</td>\n",
       "      <td>0.333676</td>\n",
       "      <td>0.199992</td>\n",
       "      <td>0.073262</td>\n",
       "      <td>0.203134</td>\n",
       "      <td>0.430811</td>\n",
       "      <td>0.327312</td>\n",
       "      <td>0.750742</td>\n",
       "      <td>0.358037</td>\n",
       "      <td>1.000000</td>\n",
       "      <td>0.216200</td>\n",
       "    </tr>\n",
       "    <tr>\n",
       "      <th>Risk</th>\n",
       "      <td>-0.394598</td>\n",
       "      <td>0.063133</td>\n",
       "      <td>0.376395</td>\n",
       "      <td>0.616781</td>\n",
       "      <td>0.255977</td>\n",
       "      <td>0.633899</td>\n",
       "      <td>0.290738</td>\n",
       "      <td>0.306969</td>\n",
       "      <td>0.352519</td>\n",
       "      <td>0.255892</td>\n",
       "      <td>...</td>\n",
       "      <td>0.253396</td>\n",
       "      <td>0.398453</td>\n",
       "      <td>0.175909</td>\n",
       "      <td>0.406693</td>\n",
       "      <td>0.297511</td>\n",
       "      <td>0.213657</td>\n",
       "      <td>0.355721</td>\n",
       "      <td>0.412260</td>\n",
       "      <td>0.216200</td>\n",
       "      <td>1.000000</td>\n",
       "    </tr>\n",
       "  </tbody>\n",
       "</table>\n",
       "<p>32 rows × 32 columns</p>\n",
       "</div>"
      ],
      "text/plain": [
       "               Sector_score  LOCATION_ID    PARA_A   Score_A    PARA_B  \\\n",
       "Sector_score       1.000000    -0.051794 -0.213811 -0.421641 -0.131503   \n",
       "LOCATION_ID       -0.051794     1.000000 -0.006683  0.079342  0.006571   \n",
       "PARA_A            -0.213811    -0.006683  1.000000  0.493972  0.160441   \n",
       "Score_A           -0.421641     0.079342  0.493972  1.000000  0.247596   \n",
       "PARA_B            -0.131503     0.006571  0.160441  0.247596  1.000000   \n",
       "Score_B           -0.212795     0.125494  0.355073  0.567626  0.346339   \n",
       "TOTAL             -0.151850     0.006489  0.265487  0.295440  0.994110   \n",
       "numbers           -0.150368     0.006733  0.131895  0.240088  0.208941   \n",
       "Marks             -0.168660    -0.017658  0.138465  0.271606  0.229836   \n",
       "Money_Value       -0.116026    -0.066841  0.448462  0.203894  0.124192   \n",
       "MONEY_Marks       -0.316154     0.107431  0.282525  0.473838  0.313190   \n",
       "District          -0.110358    -0.105425  0.127190  0.086135  0.082613   \n",
       "Loss              -0.081971     0.006409  0.044089  0.091151  0.044117   \n",
       "LOSS_SCORE        -0.085566    -0.003441  0.042365  0.091382  0.041835   \n",
       "History           -0.113601    -0.081820  0.116832  0.175807  0.202873   \n",
       "History_score     -0.135307    -0.054217  0.170914  0.263077  0.315779   \n",
       "Score             -0.332848     0.087813  0.423428  0.716534  0.396431   \n",
       "Risk_A            -0.216684    -0.004351  0.999277  0.502607  0.163874   \n",
       "Risk_B            -0.129455     0.006200  0.160372  0.246416  0.999936   \n",
       "Score_B.1         -0.168660    -0.017658  0.138465  0.271606  0.229836   \n",
       "Risk_C            -0.164809    -0.015126  0.138353  0.263094  0.222061   \n",
       "Score_MV          -0.316154     0.107431  0.282525  0.473838  0.313190   \n",
       "Risk_D            -0.114822    -0.066920  0.447771  0.201598  0.123851   \n",
       "District_Loss     -0.110358    -0.105425  0.127190  0.086135  0.082613   \n",
       "PROB              -0.085566    -0.003441  0.042365  0.091382  0.041835   \n",
       "RiSk_E            -0.130023    -0.096895  0.117772  0.099628  0.078764   \n",
       "Prob              -0.135307    -0.054217  0.170914  0.263077  0.315779   \n",
       "Risk_F            -0.102163    -0.089099  0.102678  0.148952  0.195412   \n",
       "Inherent_Risk     -0.171574    -0.046844  0.480600  0.318338  0.654034   \n",
       "CONTROL_RISK      -0.155149    -0.124561  0.147524  0.167616  0.186064   \n",
       "Audit_Risk        -0.090699    -0.086624  0.218696  0.200284  0.887719   \n",
       "Risk              -0.394598     0.063133  0.376395  0.616781  0.255977   \n",
       "\n",
       "                Score_B     TOTAL   numbers     Marks  Money_Value  ...  \\\n",
       "Sector_score  -0.212795 -0.151850 -0.150368 -0.168660    -0.116026  ...   \n",
       "LOCATION_ID    0.125494  0.006489  0.006733 -0.017658    -0.066841  ...   \n",
       "PARA_A         0.355073  0.265487  0.131895  0.138465     0.448462  ...   \n",
       "Score_A        0.567626  0.295440  0.240088  0.271606     0.203894  ...   \n",
       "PARA_B         0.346339  0.994110  0.208941  0.229836     0.124192  ...   \n",
       "Score_B        1.000000  0.377785  0.275464  0.311398     0.203168  ...   \n",
       "TOTAL          0.377785  1.000000  0.216565  0.237031     0.167723  ...   \n",
       "numbers        0.275464  0.216565  1.000000  0.908008     0.185258  ...   \n",
       "Marks          0.311398  0.237031  0.908008  1.000000     0.219330  ...   \n",
       "Money_Value    0.203168  0.167723  0.185258  0.219330     1.000000  ...   \n",
       "MONEY_Marks    0.564161  0.335786  0.445426  0.505901     0.390281  ...   \n",
       "District      -0.007660  0.092941  0.124836  0.150249     0.027515  ...   \n",
       "Loss           0.097092  0.048045 -0.002354  0.003765     0.023834  ...   \n",
       "LOSS_SCORE     0.090701  0.045629  0.034952  0.035916     0.031072  ...   \n",
       "History        0.199095  0.209926  0.201488  0.225253     0.079274  ...   \n",
       "History_score  0.307683  0.325504  0.208547  0.247275     0.111208  ...   \n",
       "Score          0.900436  0.432790  0.502288  0.565380     0.290264  ...   \n",
       "Risk_A         0.359800  0.268754  0.133833  0.141052     0.447860  ...   \n",
       "Risk_B         0.346985  0.994037  0.208702  0.229556     0.124247  ...   \n",
       "Score_B.1      0.311398  0.237031  0.908008  1.000000     0.219330  ...   \n",
       "Risk_C         0.300677  0.229521  0.955243  0.990396     0.214322  ...   \n",
       "Score_MV       0.564161  0.335786  0.445426  0.505901     0.390281  ...   \n",
       "Risk_D         0.200303  0.167313  0.185667  0.219657     0.999911  ...   \n",
       "District_Loss -0.007660  0.092941  0.124836  0.150249     0.027515  ...   \n",
       "PROB           0.090701  0.045629  0.034952  0.035916     0.031072  ...   \n",
       "RiSk_E         0.012102  0.088456  0.136477  0.157076     0.032174  ...   \n",
       "Prob           0.307683  0.325504  0.208547  0.247275     0.111208  ...   \n",
       "Risk_F         0.169659  0.201421  0.201644  0.222529     0.068965  ...   \n",
       "Inherent_Risk  0.363547  0.689291  0.269955  0.307269     0.829537  ...   \n",
       "CONTROL_RISK   0.124880  0.196520  0.227956  0.255776     0.068517  ...   \n",
       "Audit_Risk     0.206536  0.888049  0.220735  0.258963     0.333528  ...   \n",
       "Risk           0.633899  0.290738  0.306969  0.352519     0.255892  ...   \n",
       "\n",
       "                 Risk_D  District_Loss      PROB    RiSk_E      Prob  \\\n",
       "Sector_score  -0.114822      -0.110358 -0.085566 -0.130023 -0.135307   \n",
       "LOCATION_ID   -0.066920      -0.105425 -0.003441 -0.096895 -0.054217   \n",
       "PARA_A         0.447771       0.127190  0.042365  0.117772  0.170914   \n",
       "Score_A        0.201598       0.086135  0.091382  0.099628  0.263077   \n",
       "PARA_B         0.123851       0.082613  0.041835  0.078764  0.315779   \n",
       "Score_B        0.200303      -0.007660  0.090701  0.012102  0.307683   \n",
       "TOTAL          0.167313       0.092941  0.045629  0.088456  0.325504   \n",
       "numbers        0.185667       0.124836  0.034952  0.136477  0.208547   \n",
       "Marks          0.219657       0.150249  0.035916  0.157076  0.247275   \n",
       "Money_Value    0.999911       0.027515  0.031072  0.032174  0.111208   \n",
       "MONEY_Marks    0.390079       0.079422  0.128418  0.102460  0.333109   \n",
       "District       0.027798       1.000000  0.054977  0.912585  0.083471   \n",
       "Loss           0.023952       0.035920  0.981500  0.369300  0.103762   \n",
       "LOSS_SCORE     0.031219       0.054977  1.000000  0.407674  0.140745   \n",
       "History        0.079051       0.069022  0.109455  0.109735  0.859175   \n",
       "History_score  0.110535       0.083471  0.140745  0.123176  1.000000   \n",
       "Score          0.288114       0.208063  0.166142  0.234282  0.442549   \n",
       "Risk_A         0.447137       0.126781  0.042471  0.117523  0.174539   \n",
       "Risk_B         0.123914       0.082818  0.042176  0.079124  0.315631   \n",
       "Score_B.1      0.219657       0.150249  0.035916  0.157076  0.247275   \n",
       "Risk_C         0.214695       0.146126  0.035267  0.154212  0.236598   \n",
       "Score_MV       0.390079       0.079422  0.128418  0.102460  0.333109   \n",
       "Risk_D         1.000000       0.027798  0.031219  0.032421  0.110535   \n",
       "District_Loss  0.027798       1.000000  0.054977  0.912585  0.083471   \n",
       "PROB           0.031219       0.054977  1.000000  0.407674  0.140745   \n",
       "RiSk_E         0.032421       0.912585  0.407674  1.000000  0.123176   \n",
       "Prob           0.110535       0.083471  0.140745  0.123176  1.000000   \n",
       "Risk_F         0.068860       0.070427  0.105490  0.111444  0.815486   \n",
       "Inherent_Risk  0.829376       0.080402  0.051730  0.081939  0.272703   \n",
       "CONTROL_RISK   0.068605       0.643028  0.338307  0.728255  0.642598   \n",
       "Audit_Risk     0.333676       0.199992  0.073262  0.203134  0.430811   \n",
       "Risk           0.253396       0.398453  0.175909  0.406693  0.297511   \n",
       "\n",
       "                 Risk_F  Inherent_Risk  CONTROL_RISK  Audit_Risk      Risk  \n",
       "Sector_score  -0.102163      -0.171574     -0.155149   -0.090699 -0.394598  \n",
       "LOCATION_ID   -0.089099      -0.046844     -0.124561   -0.086624  0.063133  \n",
       "PARA_A         0.102678       0.480600      0.147524    0.218696  0.376395  \n",
       "Score_A        0.148952       0.318338      0.167616    0.200284  0.616781  \n",
       "PARA_B         0.195412       0.654034      0.186064    0.887719  0.255977  \n",
       "Score_B        0.169659       0.363547      0.124880    0.206536  0.633899  \n",
       "TOTAL          0.201421       0.689291      0.196520    0.888049  0.290738  \n",
       "numbers        0.201644       0.269955      0.227956    0.220735  0.306969  \n",
       "Marks          0.222529       0.307269      0.255776    0.258963  0.352519  \n",
       "Money_Value    0.068965       0.829537      0.068517    0.333528  0.255892  \n",
       "MONEY_Marks    0.215676       0.480913      0.215473    0.290696  0.687661  \n",
       "District       0.070427       0.080402      0.643028    0.199992  0.398453  \n",
       "Loss           0.053629       0.046958      0.277546    0.048736  0.170357  \n",
       "LOSS_SCORE     0.105490       0.051730      0.338307    0.073262  0.175909  \n",
       "History        0.991986       0.184633      0.755557    0.329284  0.238507  \n",
       "History_score  0.815486       0.272703      0.642598    0.430811  0.297511  \n",
       "Score          0.292747       0.463532      0.354491    0.332387  0.784615  \n",
       "Risk_A         0.105335       0.482086      0.149194    0.220566  0.383005  \n",
       "Risk_B         0.194669       0.654101      0.185786    0.887493  0.254281  \n",
       "Score_B.1      0.222529       0.307269      0.255776    0.258963  0.352519  \n",
       "Risk_C         0.218052       0.299401      0.250823    0.249262  0.340888  \n",
       "Score_MV       0.215676       0.480913      0.215473    0.290696  0.687661  \n",
       "Risk_D         0.068860       0.829376      0.068605    0.333676  0.253396  \n",
       "District_Loss  0.070427       0.080402      0.643028    0.199992  0.398453  \n",
       "PROB           0.105490       0.051730      0.338307    0.073262  0.175909  \n",
       "RiSk_E         0.111444       0.081939      0.728255    0.203134  0.406693  \n",
       "Prob           0.815486       0.272703      0.642598    0.430811  0.297511  \n",
       "Risk_F         1.000000       0.172220      0.762196    0.327312  0.213657  \n",
       "Inherent_Risk  0.172220       1.000000      0.172139    0.750742  0.355721  \n",
       "CONTROL_RISK   0.762196       0.172139      1.000000    0.358037  0.412260  \n",
       "Audit_Risk     0.327312       0.750742      0.358037    1.000000  0.216200  \n",
       "Risk           0.213657       0.355721      0.412260    0.216200  1.000000  \n",
       "\n",
       "[32 rows x 32 columns]"
      ]
     },
     "execution_count": 89,
     "metadata": {},
     "output_type": "execute_result"
    }
   ],
   "source": [
    "# Find the correlation between our independent variables\n",
    "corr_matrix = data.corr()\n",
    "corr_matrix"
   ]
  },
  {
   "cell_type": "code",
   "execution_count": 116,
   "metadata": {},
   "outputs": [
    {
     "data": {
      "image/png": "[encoded data removed]",
      "text/plain": [
       "<Figure size 2520x2160 with 2 Axes>"
      ]
     },
     "metadata": {
      "needs_background": "light"
     },
     "output_type": "display_data"
    }
   ],
   "source": [
    "# Let's visulize the co-relation matix with heat map\n",
    "corr_matrix = data.corr()\n",
    "plt.figure(figsize=(35, 30))\n",
    "sns.heatmap(corr_matrix, \n",
    "            annot=True, \n",
    "            linewidths=0.5, \n",
    "            fmt= \".2f\", \n",
    "            cmap=\"YlGnBu\");"
   ]
  },
  {
   "cell_type": "markdown",
   "metadata": {},
   "source": [
    "# Training and test split"
   ]
  },
  {
   "cell_type": "code",
   "execution_count": 3,
   "metadata": {},
   "outputs": [],
   "source": [
    "#Creating a new dataframe for classification by deleting the Audit_Risk column.\n",
    "df = data.drop(\"Audit_Risk\", axis = 1)"
   ]
  },
  {
   "cell_type": "code",
   "execution_count": 4,
   "metadata": {},
   "outputs": [],
   "source": [
    "X = df.drop([\"Risk\"], axis = 1)\n",
    "Y = df[\"Risk\"]"
   ]
  },
  {
   "cell_type": "code",
   "execution_count": 5,
   "metadata": {},
   "outputs": [
    {
     "data": {
      "text/html": [
       "<div>\n",
       "<style scoped>\n",
       "    .dataframe tbody tr th:only-of-type {\n",
       "        vertical-align: middle;\n",
       "    }\n",
       "\n",
       "    .dataframe tbody tr th {\n",
       "        vertical-align: top;\n",
       "    }\n",
       "\n",
       "    .dataframe thead th {\n",
       "        text-align: right;\n",
       "    }\n",
       "</style>\n",
       "<table border=\"1\" class=\"dataframe\">\n",
       "  <thead>\n",
       "    <tr style=\"text-align: right;\">\n",
       "      <th></th>\n",
       "      <th>Sector_score</th>\n",
       "      <th>LOCATION_ID</th>\n",
       "      <th>PARA_A</th>\n",
       "      <th>Score_A</th>\n",
       "      <th>PARA_B</th>\n",
       "      <th>Score_B</th>\n",
       "      <th>TOTAL</th>\n",
       "      <th>numbers</th>\n",
       "      <th>Marks</th>\n",
       "      <th>Money_Value</th>\n",
       "      <th>...</th>\n",
       "      <th>Risk_C</th>\n",
       "      <th>Score_MV</th>\n",
       "      <th>Risk_D</th>\n",
       "      <th>District_Loss</th>\n",
       "      <th>PROB</th>\n",
       "      <th>RiSk_E</th>\n",
       "      <th>Prob</th>\n",
       "      <th>Risk_F</th>\n",
       "      <th>Inherent_Risk</th>\n",
       "      <th>CONTROL_RISK</th>\n",
       "    </tr>\n",
       "  </thead>\n",
       "  <tbody>\n",
       "    <tr>\n",
       "      <th>0</th>\n",
       "      <td>3.89</td>\n",
       "      <td>23</td>\n",
       "      <td>4.18</td>\n",
       "      <td>0.6</td>\n",
       "      <td>2.50</td>\n",
       "      <td>0.2</td>\n",
       "      <td>6.68</td>\n",
       "      <td>5.0</td>\n",
       "      <td>2</td>\n",
       "      <td>3.38</td>\n",
       "      <td>...</td>\n",
       "      <td>1.0</td>\n",
       "      <td>0.2</td>\n",
       "      <td>0.676</td>\n",
       "      <td>2</td>\n",
       "      <td>0.2</td>\n",
       "      <td>0.4</td>\n",
       "      <td>0.2</td>\n",
       "      <td>0.0</td>\n",
       "      <td>8.574</td>\n",
       "      <td>0.4</td>\n",
       "    </tr>\n",
       "    <tr>\n",
       "      <th>1</th>\n",
       "      <td>3.89</td>\n",
       "      <td>6</td>\n",
       "      <td>0.00</td>\n",
       "      <td>0.2</td>\n",
       "      <td>4.83</td>\n",
       "      <td>0.2</td>\n",
       "      <td>4.83</td>\n",
       "      <td>5.0</td>\n",
       "      <td>2</td>\n",
       "      <td>0.94</td>\n",
       "      <td>...</td>\n",
       "      <td>1.0</td>\n",
       "      <td>0.2</td>\n",
       "      <td>0.188</td>\n",
       "      <td>2</td>\n",
       "      <td>0.2</td>\n",
       "      <td>0.4</td>\n",
       "      <td>0.2</td>\n",
       "      <td>0.0</td>\n",
       "      <td>2.554</td>\n",
       "      <td>0.4</td>\n",
       "    </tr>\n",
       "  </tbody>\n",
       "</table>\n",
       "<p>2 rows × 30 columns</p>\n",
       "</div>"
      ],
      "text/plain": [
       "   Sector_score  LOCATION_ID  PARA_A  Score_A  PARA_B  Score_B  TOTAL  \\\n",
       "0          3.89           23    4.18      0.6    2.50      0.2   6.68   \n",
       "1          3.89            6    0.00      0.2    4.83      0.2   4.83   \n",
       "\n",
       "   numbers  Marks  Money_Value  ...  Risk_C  Score_MV  Risk_D  District_Loss  \\\n",
       "0      5.0      2         3.38  ...     1.0       0.2   0.676              2   \n",
       "1      5.0      2         0.94  ...     1.0       0.2   0.188              2   \n",
       "\n",
       "   PROB  RiSk_E  Prob  Risk_F  Inherent_Risk  CONTROL_RISK  \n",
       "0   0.2     0.4   0.2     0.0          8.574           0.4  \n",
       "1   0.2     0.4   0.2     0.0          2.554           0.4  \n",
       "\n",
       "[2 rows x 30 columns]"
      ]
     },
     "execution_count": 5,
     "metadata": {},
     "output_type": "execute_result"
    }
   ],
   "source": [
    "X.head(2)"
   ]
  },
  {
   "cell_type": "code",
   "execution_count": 6,
   "metadata": {},
   "outputs": [
    {
     "data": {
      "text/plain": [
       "0      1\n",
       "1      0\n",
       "2      0\n",
       "3      1\n",
       "4      0\n",
       "      ..\n",
       "755    0\n",
       "756    0\n",
       "757    0\n",
       "758    0\n",
       "759    0\n",
       "Name: Risk, Length: 760, dtype: int64"
      ]
     },
     "execution_count": 6,
     "metadata": {},
     "output_type": "execute_result"
    }
   ],
   "source": [
    "Y"
   ]
  },
  {
   "cell_type": "code",
   "execution_count": 7,
   "metadata": {},
   "outputs": [],
   "source": [
    "from sklearn.model_selection import train_test_split\n",
    "# Random seed for reproducibility\n",
    "np.random.seed(42)\n",
    "\n",
    "# Split into train & test set\n",
    "X_traino, X_testo, Y_train, Y_test = train_test_split(X, # independent variables \n",
    "                                                      Y, # dependent variable\n",
    "                                                      test_size = 0.2) # percentage of data to use for test set\n",
    "\n",
    "\n",
    "\n"
   ]
  },
  {
   "cell_type": "markdown",
   "metadata": {},
   "source": [
    "### Feature Scaling"
   ]
  },
  {
   "cell_type": "code",
   "execution_count": 8,
   "metadata": {},
   "outputs": [],
   "source": [
    "#MinMax scaling is used to avoid any feature to dominate the model. MinMax scaling scales all the data in the columns between 0 to 1.\n",
    "from sklearn.preprocessing import MinMaxScaler\n",
    "scaler = MinMaxScaler()\n",
    "\n",
    "X_train = scaler.fit_transform(X_traino)\n",
    "X_test  = scaler.transform(X_testo)"
   ]
  },
  {
   "cell_type": "code",
   "execution_count": 9,
   "metadata": {},
   "outputs": [
    {
     "data": {
      "text/plain": [
       "(608, 608)"
      ]
     },
     "execution_count": 9,
     "metadata": {},
     "output_type": "execute_result"
    }
   ],
   "source": [
    "len(X_train), len(Y_train)"
   ]
  },
  {
   "cell_type": "code",
   "execution_count": 10,
   "metadata": {},
   "outputs": [
    {
     "data": {
      "text/plain": [
       "(152, 152)"
      ]
     },
     "execution_count": 10,
     "metadata": {},
     "output_type": "execute_result"
    }
   ],
   "source": [
    "len(X_test), len(Y_test)"
   ]
  },
  {
   "cell_type": "markdown",
   "metadata": {},
   "source": [
    "# Modeling"
   ]
  },
  {
   "cell_type": "markdown",
   "metadata": {},
   "source": [
    "### modeling choices\n",
    "1. Logistic Regression - LogisticRegression()\n",
    "2. K-Nearest Neighbors - KNeighboursClassifier()\n",
    "3. RandomForest - RandomForestClassifier()\n",
    "4. Linear Supprt Vector Machine (not sure / optional)"
   ]
  },
  {
   "cell_type": "markdown",
   "metadata": {},
   "source": [
    "**Modeling & evaluting in one go\n",
    "training a model, model.fit(X_train, y_train)\n",
    "scoring a model model.score(X_test, y_test). score() returns the ratio of correct predictions (1.0 = 100% correct)"
   ]
  },
  {
   "cell_type": "code",
   "execution_count": 15,
   "metadata": {},
   "outputs": [],
   "source": [
    "from sklearn.svm import SVC\n",
    "# Put models in a dictionary\n",
    "models = {\"KNN\": KNeighborsClassifier(),\n",
    "          \"Logistic Regression\": LogisticRegression(), \n",
    "          \"Random Forest\": RandomForestClassifier(),\n",
    "           \"Linear SVM\": SVC()}\n",
    "\n",
    "# Create function to fit and score models\n",
    "def fit_and_score(models, X_train, X_test, Y_train, Y_test):\n",
    "    \"\"\"\n",
    "    Fits and evaluates given machine learning models.\n",
    "    models : a dict of different Scikit-Learn machine learning models\n",
    "    X_train : training data\n",
    "    X_test : testing data\n",
    "    y_train : labels assosciated with training data\n",
    "    y_test : labels assosciated with test data\n",
    "    \"\"\"\n",
    "    # Random seed for reproducible results\n",
    "    np.random.seed(42)\n",
    "    # Make a list to keep model scores\n",
    "    model_scores = {}\n",
    "    # Loop through models\n",
    "    for name, model in models.items():\n",
    "        # Fit the model to the data\n",
    "        model.fit(X_train, Y_train)\n",
    "        # Evaluate the model and append its score to model_scores on testing data\n",
    "        model_scores[name] = model.score(X_test, Y_test)\n",
    "    return model_scores"
   ]
  },
  {
   "cell_type": "code",
   "execution_count": 16,
   "metadata": {},
   "outputs": [
    {
     "data": {
      "text/plain": [
       "{'KNN': 0.9342105263157895,\n",
       " 'Logistic Regression': 0.9605263157894737,\n",
       " 'Random Forest': 0.993421052631579,\n",
       " 'Linear SVM': 0.9539473684210527}"
      ]
     },
     "execution_count": 16,
     "metadata": {},
     "output_type": "execute_result"
    }
   ],
   "source": [
    "model_scores = fit_and_score(models = models,\n",
    "                             X_train = X_train,\n",
    "                             X_test = X_test,\n",
    "                             Y_train = Y_train,\n",
    "                             Y_test = Y_test)\n",
    "model_scores"
   ]
  },
  {
   "cell_type": "code",
   "execution_count": 17,
   "metadata": {},
   "outputs": [],
   "source": [
    "from sklearn.svm import SVC\n",
    "# Put models in a dictionary\n",
    "models = {\"KNN\": KNeighborsClassifier(),\n",
    "          \"Logistic Regression\": LogisticRegression(), \n",
    "          \"Random Forest\": RandomForestClassifier(),\n",
    "           \"Linear SVM\": SVC()}\n",
    "\n",
    "# Create function to fit and score models\n",
    "def fit_and_score(models, X_train, X_test, Y_train, Y_test):\n",
    "    \"\"\"\n",
    "    Fits and evaluates given machine learning models.\n",
    "    models : a dict of different Scikit-Learn machine learning models\n",
    "    X_train : training data\n",
    "    X_test : testing data\n",
    "    y_train : labels assosciated with training data\n",
    "    y_test : labels assosciated with test data\n",
    "    \"\"\"\n",
    "    # Random seed for reproducible results\n",
    "    np.random.seed(42)\n",
    "    # Make a list to keep model scores\n",
    "    model_scores_on_training = {}\n",
    "    # Make a list to keep model scores\n",
    "    model_scores_on_testing = {}\n",
    "    # Loop through models\n",
    "    for name, model in models.items():\n",
    "        # Fit the model to the data\n",
    "        model.fit(X_train, Y_train)\n",
    "        # Evaluate the model and append its score to model_scores on training data\n",
    "        model_scores_on_training[name] = model.score(X_train, Y_train)\n",
    "        # Evaluate the model and append its score to model_scores on testing data\n",
    "        model_scores_on_testing[name] = model.score(X_test, Y_test)\n",
    "    return model_scores_on_training, model_scores_on_testing      "
   ]
  },
  {
   "cell_type": "code",
   "execution_count": 18,
   "metadata": {},
   "outputs": [
    {
     "data": {
      "text/plain": [
       "({'KNN': 0.9638157894736842,\n",
       "  'Logistic Regression': 0.9654605263157895,\n",
       "  'Random Forest': 1.0,\n",
       "  'Linear SVM': 0.96875},\n",
       " {'KNN': 0.9342105263157895,\n",
       "  'Logistic Regression': 0.9605263157894737,\n",
       "  'Random Forest': 0.993421052631579,\n",
       "  'Linear SVM': 0.9539473684210527})"
      ]
     },
     "execution_count": 18,
     "metadata": {},
     "output_type": "execute_result"
    }
   ],
   "source": [
    "model_scores = fit_and_score(models = models,\n",
    "                             X_train = X_train,\n",
    "                             X_test = X_test,\n",
    "                             Y_train = Y_train,\n",
    "                             Y_test = Y_test)\n",
    "model_scores"
   ]
  },
  {
   "cell_type": "code",
   "execution_count": 172,
   "metadata": {},
   "outputs": [
    {
     "data": {
      "image/png": "[encoded data removed]",
      "text/plain": [
       "<Figure size 432x288 with 1 Axes>"
      ]
     },
     "metadata": {},
     "output_type": "display_data"
    }
   ],
   "source": [
    "#Model Comparison by plotting them\n",
    "model_compare = pd.DataFrame(model_scores, index=['accuracy'])\n",
    "model_compare.T.plot.bar();"
   ]
  },
  {
   "cell_type": "markdown",
   "metadata": {},
   "source": [
    "\"Random Forest\" performs the best.....with over 99% accuracy.¶"
   ]
  },
  {
   "cell_type": "markdown",
   "metadata": {},
   "source": [
    "# Hyperparameter tuning and cross-validation"
   ]
  },
  {
   "cell_type": "markdown",
   "metadata": {},
   "source": [
    "as \"Random Forest\" have the best performace. we will do Hyperparameter tuning and cross-validation just with \"Random Forest\"."
   ]
  },
  {
   "cell_type": "markdown",
   "metadata": {},
   "source": [
    "The most common type of cross-validation is k-fold. It involves splitting your data into k-fold's and then testing a model on each. For example, let's say we had 5 folds (k = 5). "
   ]
  },
  {
   "cell_type": "markdown",
   "metadata": {},
   "source": [
    "### Tune KNeighborsClassifier (K-Nearest Neighbors or KNN) by hand\n",
    "The default is 5 (n_neigbors=5)"
   ]
  },
  {
   "cell_type": "code",
   "execution_count": 135,
   "metadata": {},
   "outputs": [],
   "source": [
    "# Create a list of train scores\n",
    "train_scores = []\n",
    "\n",
    "# Create a list of test scores\n",
    "test_scores = []\n",
    "\n",
    "# Create a list of different values for n_neighbors\n",
    "neighbors = range(1, 21) # 1 to 20\n",
    "\n",
    "# Setup algorithm\n",
    "knn = KNeighborsClassifier()\n",
    "\n",
    "# Loop through different neighbors values\n",
    "for i in neighbors:\n",
    "    knn.set_params(n_neighbors = i) # set neighbors value\n",
    "    \n",
    "    # Fit the algorithm\n",
    "    knn.fit(X_train, Y_train)\n",
    "    \n",
    "    # Update the training scores\n",
    "    train_scores.append(knn.score(X_train, Y_train))\n",
    "    \n",
    "    # Update the test scores\n",
    "    test_scores.append(knn.score(X_test, Y_test))"
   ]
  },
  {
   "cell_type": "code",
   "execution_count": 136,
   "metadata": {},
   "outputs": [
    {
     "data": {
      "text/plain": [
       "[1.0,\n",
       " 0.9769736842105263,\n",
       " 0.9819078947368421,\n",
       " 0.9654605263157895,\n",
       " 0.9638157894736842,\n",
       " 0.962171052631579,\n",
       " 0.962171052631579,\n",
       " 0.9523026315789473,\n",
       " 0.9523026315789473,\n",
       " 0.9457236842105263,\n",
       " 0.9490131578947368,\n",
       " 0.9490131578947368,\n",
       " 0.9506578947368421,\n",
       " 0.9506578947368421,\n",
       " 0.9490131578947368,\n",
       " 0.9506578947368421,\n",
       " 0.9490131578947368,\n",
       " 0.9506578947368421,\n",
       " 0.9473684210526315,\n",
       " 0.9490131578947368]"
      ]
     },
     "execution_count": 136,
     "metadata": {},
     "output_type": "execute_result"
    }
   ],
   "source": [
    "train_scores"
   ]
  },
  {
   "cell_type": "code",
   "execution_count": 137,
   "metadata": {
    "scrolled": true
   },
   "outputs": [
    {
     "name": "stdout",
     "output_type": "stream",
     "text": [
      "Maximum KNN score on the test data: 95.39%\n"
     ]
    },
    {
     "data": {
      "image/png": "[encoded data removed]",
      "text/plain": [
       "<Figure size 432x288 with 1 Axes>"
      ]
     },
     "metadata": {
      "needs_background": "light"
     },
     "output_type": "display_data"
    }
   ],
   "source": [
    "plt.plot(neighbors, train_scores, label=\"Train score\")\n",
    "plt.plot(neighbors, test_scores, label=\"Test score\")\n",
    "plt.xticks(np.arange(1, 21, 1))\n",
    "plt.xlabel(\"Number of neighbors\")\n",
    "plt.ylabel(\"Model score\")\n",
    "plt.legend()\n",
    "\n",
    "print(f\"Maximum KNN score on the test data: {max(test_scores)*100:.2f}%\")"
   ]
  },
  {
   "cell_type": "markdown",
   "metadata": {},
   "source": [
    "Looking at the graph, n_neighbors = 13 seems best."
   ]
  },
  {
   "cell_type": "markdown",
   "metadata": {},
   "source": [
    "## Tuning models with with RandomizedSearchCV"
   ]
  },
  {
   "cell_type": "markdown",
   "metadata": {},
   "source": [
    "Let's create a hyperparameter grid (a dictionary of different hyperparameters) for each and then test them out."
   ]
  },
  {
   "cell_type": "code",
   "execution_count": 138,
   "metadata": {},
   "outputs": [],
   "source": [
    "# Different LogisticRegression hyperparameters\n",
    "log_reg_grid = {\"C\": np.logspace(-4, 4, 20),\n",
    "                \"solver\": [\"liblinear\"]}\n",
    "\n",
    "# Different RandomForestClassifier hyperparameters\n",
    "rf_grid = {\"n_estimators\": np.arange(10, 1000, 50),\n",
    "           \"max_depth\": [None, 3, 5, 10],\n",
    "           \"min_samples_split\": np.arange(2, 20, 2),\n",
    "           \"min_samples_leaf\": np.arange(1, 20, 2)}"
   ]
  },
  {
   "cell_type": "markdown",
   "metadata": {},
   "source": [
    "Now let's use RandomizedSearchCV to try and tune our LogisticRegression model.\n",
    "\n",
    "We'll pass it the different hyperparameters from log_reg_grid as well as set n_iter = 20. This means, RandomizedSearchCV will try 20 different combinations of hyperparameters from log_reg_grid and save the best ones."
   ]
  },
  {
   "cell_type": "code",
   "execution_count": 139,
   "metadata": {},
   "outputs": [
    {
     "name": "stdout",
     "output_type": "stream",
     "text": [
      "Fitting 5 folds for each of 20 candidates, totalling 100 fits\n"
     ]
    }
   ],
   "source": [
    "# Setup random seed\n",
    "np.random.seed(42)\n",
    "\n",
    "# Setup random hyperparameter search for LogisticRegression\n",
    "rs_log_reg = RandomizedSearchCV(LogisticRegression(),\n",
    "                                param_distributions=log_reg_grid,\n",
    "                                cv=5,\n",
    "                                n_iter=20,\n",
    "                                verbose=True)\n",
    "\n",
    "# Fit random hyperparameter search model\n",
    "rs_log_reg.fit(X_train, Y_train);"
   ]
  },
  {
   "cell_type": "code",
   "execution_count": 140,
   "metadata": {},
   "outputs": [
    {
     "data": {
      "text/plain": [
       "{'solver': 'liblinear', 'C': 10000.0}"
      ]
     },
     "execution_count": 140,
     "metadata": {},
     "output_type": "execute_result"
    }
   ],
   "source": [
    "rs_log_reg.best_params_"
   ]
  },
  {
   "cell_type": "code",
   "execution_count": 141,
   "metadata": {},
   "outputs": [
    {
     "data": {
      "text/plain": [
       "0.9802631578947368"
      ]
     },
     "execution_count": 141,
     "metadata": {},
     "output_type": "execute_result"
    }
   ],
   "source": [
    "rs_log_reg.score(X_test, Y_test)"
   ]
  },
  {
   "cell_type": "markdown",
   "metadata": {},
   "source": [
    "Now we've tuned LogisticRegression using RandomizedSearchCV, we'll do the same for RandomForestClassifier."
   ]
  },
  {
   "cell_type": "code",
   "execution_count": 143,
   "metadata": {},
   "outputs": [
    {
     "name": "stdout",
     "output_type": "stream",
     "text": [
      "Fitting 5 folds for each of 20 candidates, totalling 100 fits\n"
     ]
    }
   ],
   "source": [
    "# Setup random seed\n",
    "np.random.seed(42)\n",
    "\n",
    "# Setup random hyperparameter search for RandomForestClassifier\n",
    "rs_rf = RandomizedSearchCV(RandomForestClassifier(),\n",
    "                           param_distributions=rf_grid,\n",
    "                           cv=5,\n",
    "                           n_iter=20,\n",
    "                           verbose=True)\n",
    "\n",
    "# Fit random hyperparameter search model\n",
    "rs_rf.fit(X_train, Y_train);"
   ]
  },
  {
   "cell_type": "code",
   "execution_count": 144,
   "metadata": {},
   "outputs": [
    {
     "data": {
      "text/plain": [
       "{'n_estimators': 560,\n",
       " 'min_samples_split': 16,\n",
       " 'min_samples_leaf': 17,\n",
       " 'max_depth': 5}"
      ]
     },
     "execution_count": 144,
     "metadata": {},
     "output_type": "execute_result"
    }
   ],
   "source": [
    "# Find the best parameters\n",
    "rs_rf.best_params_"
   ]
  },
  {
   "cell_type": "code",
   "execution_count": 146,
   "metadata": {},
   "outputs": [
    {
     "data": {
      "text/plain": [
       "0.9868421052631579"
      ]
     },
     "execution_count": 146,
     "metadata": {},
     "output_type": "execute_result"
    }
   ],
   "source": [
    "# Evaluate the randomized search random forest model\n",
    "rs_rf.score(X_test, Y_test)"
   ]
  },
  {
   "cell_type": "markdown",
   "metadata": {},
   "source": [
    "# Evaluating a classification model, beyond accuracy"
   ]
  },
  {
   "cell_type": "code",
   "execution_count": 148,
   "metadata": {},
   "outputs": [
    {
     "data": {
      "text/plain": [
       "array([1., 1., 1., 0., 0., 0., 1., 1., 0., 0., 1., 0., 1., 0., 0., 0., 0.,\n",
       "       0., 1., 1., 1., 0., 0., 1., 0., 0., 0., 0., 0., 1., 0., 0., 1., 1.,\n",
       "       0., 0., 0., 0., 1., 0., 0., 0., 0., 1., 0., 0., 0., 1., 1., 1., 0.,\n",
       "       0., 1., 1., 0., 1., 0., 0., 0., 0., 1., 0., 0., 1., 1., 0., 0., 1.,\n",
       "       1., 1., 1., 0., 1., 1., 1., 0., 0., 0., 1., 1., 0., 0., 1., 1., 0.,\n",
       "       0., 0., 0., 1., 1., 0., 1., 0., 1., 0., 1., 0., 0., 0., 1., 0., 1.,\n",
       "       0., 0., 0., 1., 1., 0., 0., 1., 1., 0., 1., 0., 0., 0., 1., 0., 0.,\n",
       "       0., 0., 0., 0., 1., 1., 1., 1., 0., 0., 1., 1., 0., 0., 0., 0., 0.,\n",
       "       1., 1., 1., 0., 0., 1., 0., 0., 1., 1., 0., 0., 0., 1., 0., 0.])"
      ]
     },
     "execution_count": 148,
     "metadata": {},
     "output_type": "execute_result"
    }
   ],
   "source": [
    "# Make preidctions on test data\n",
    "y_preds = rs_rf.predict(X_test)\n",
    "y_preds"
   ]
  },
  {
   "cell_type": "code",
   "execution_count": 149,
   "metadata": {},
   "outputs": [
    {
     "data": {
      "text/plain": [
       "404    1.0\n",
       "327    1.0\n",
       "97     1.0\n",
       "506    0.0\n",
       "109    0.0\n",
       "      ... \n",
       "557    0.0\n",
       "627    0.0\n",
       "247    1.0\n",
       "314    0.0\n",
       "336    0.0\n",
       "Name: Risk, Length: 152, dtype: float64"
      ]
     },
     "execution_count": 149,
     "metadata": {},
     "output_type": "execute_result"
    }
   ],
   "source": [
    "Y_test"
   ]
  },
  {
   "cell_type": "markdown",
   "metadata": {},
   "source": [
    "# ROC Curve and AUC Scores"
   ]
  },
  {
   "cell_type": "markdown",
   "metadata": {},
   "source": [
    "we'll use the RandomizedSearchCV version of our RandomForestClassifier estimator, rs_rf as well as the test data, X_test and Y_test."
   ]
  },
  {
   "cell_type": "code",
   "execution_count": 150,
   "metadata": {},
   "outputs": [
    {
     "data": {
      "image/png": "[encoded data removed]",
      "text/plain": [
       "<Figure size 432x288 with 1 Axes>"
      ]
     },
     "metadata": {
      "needs_background": "light"
     },
     "output_type": "display_data"
    }
   ],
   "source": [
    "# Import ROC curve function from metrics module\n",
    "from sklearn.metrics import plot_roc_curve\n",
    "\n",
    "# Plot ROC curve and calculate AUC metric\n",
    "plot_roc_curve(rs_rf, X_test, Y_test);"
   ]
  },
  {
   "cell_type": "markdown",
   "metadata": {},
   "source": [
    "a perfect model would achieve an AUC score of 1.0 which we did ;)"
   ]
  },
  {
   "cell_type": "markdown",
   "metadata": {},
   "source": [
    "# Confusion matrix"
   ]
  },
  {
   "cell_type": "code",
   "execution_count": 155,
   "metadata": {},
   "outputs": [
    {
     "name": "stdout",
     "output_type": "stream",
     "text": [
      "[[89  1]\n",
      " [ 1 61]]\n"
     ]
    }
   ],
   "source": [
    "# Display confusion matrix\n",
    "print(confusion_matrix(Y_test, y_preds))"
   ]
  },
  {
   "cell_type": "code",
   "execution_count": 156,
   "metadata": {},
   "outputs": [
    {
     "data": {
      "image/png": "[encoded data removed]",
      "text/plain": [
       "<Figure size 216x216 with 1 Axes>"
      ]
     },
     "metadata": {},
     "output_type": "display_data"
    }
   ],
   "source": [
    "# lets visualize it with heat map\n",
    "# Import Seaborn\n",
    "import seaborn as sns\n",
    "sns.set(font_scale=1.5) # Increase font size\n",
    "\n",
    "def plot_conf_mat(Y_test, y_preds):\n",
    "    \"\"\"\n",
    "    Plots a confusion matrix using Seaborn's heatmap().\n",
    "    \"\"\"\n",
    "    fig, ax = plt.subplots(figsize=(3, 3))\n",
    "    ax = sns.heatmap(confusion_matrix(Y_test, y_preds),\n",
    "                     annot=True, # Annotate the boxes\n",
    "                     cbar=False)\n",
    "    plt.xlabel(\"true label\")\n",
    "    plt.ylabel(\"predicted label\")\n",
    "    \n",
    "plot_conf_mat(Y_test, y_preds)\n"
   ]
  },
  {
   "cell_type": "markdown",
   "metadata": {},
   "source": [
    "## Classification report"
   ]
  },
  {
   "cell_type": "markdown",
   "metadata": {},
   "source": [
    "A classification report will also give us information of the precision and recall of our model for each class."
   ]
  },
  {
   "cell_type": "code",
   "execution_count": 157,
   "metadata": {},
   "outputs": [
    {
     "name": "stdout",
     "output_type": "stream",
     "text": [
      "              precision    recall  f1-score   support\n",
      "\n",
      "         0.0       0.99      0.99      0.99        90\n",
      "         1.0       0.98      0.98      0.98        62\n",
      "\n",
      "    accuracy                           0.99       152\n",
      "   macro avg       0.99      0.99      0.99       152\n",
      "weighted avg       0.99      0.99      0.99       152\n",
      "\n"
     ]
    }
   ],
   "source": [
    "# Show classification report\n",
    "print(classification_report(Y_test, y_preds))"
   ]
  },
  {
   "cell_type": "code",
   "execution_count": 158,
   "metadata": {},
   "outputs": [
    {
     "data": {
      "text/plain": [
       "{'n_estimators': 560,\n",
       " 'min_samples_split': 16,\n",
       " 'min_samples_leaf': 17,\n",
       " 'max_depth': 5}"
      ]
     },
     "execution_count": 158,
     "metadata": {},
     "output_type": "execute_result"
    }
   ],
   "source": [
    "# Find the best parameters\n",
    "rs_rf.best_params_"
   ]
  },
  {
   "cell_type": "code",
   "execution_count": 159,
   "metadata": {},
   "outputs": [],
   "source": [
    "# Import cross_val_score\n",
    "from sklearn.model_selection import cross_val_score\n",
    "\n",
    "# Instantiate best model with best hyperparameters (found with RandomizedSearchCV)\n",
    "clf = RandomForestClassifier(n_estimators = 560,\n",
    "                         min_samples_split = 16,\n",
    "                         min_samples_leaf = 17,\n",
    "                         max_depth = 5)"
   ]
  },
  {
   "cell_type": "markdown",
   "metadata": {},
   "source": [
    "cross-validated metrics....\"accuracy\""
   ]
  },
  {
   "cell_type": "code",
   "execution_count": 160,
   "metadata": {},
   "outputs": [
    {
     "data": {
      "text/plain": [
       "array([0.97368421, 0.98684211, 0.99342105, 0.98026316, 0.99342105])"
      ]
     },
     "execution_count": 160,
     "metadata": {},
     "output_type": "execute_result"
    }
   ],
   "source": [
    "# Cross-validated accuracy score\n",
    "cv_acc = cross_val_score(clf,\n",
    "                         X,\n",
    "                         Y,\n",
    "                         cv=5, # 5-fold cross-validation\n",
    "                         scoring=\"accuracy\") # accuracy as scoring\n",
    "cv_acc"
   ]
  },
  {
   "cell_type": "code",
   "execution_count": 161,
   "metadata": {},
   "outputs": [
    {
     "data": {
      "text/plain": [
       "0.9855263157894736"
      ]
     },
     "execution_count": 161,
     "metadata": {},
     "output_type": "execute_result"
    }
   ],
   "source": [
    "#Since there are 5 metrics here, we'll take the average.\n",
    "cv_acc = np.mean(cv_acc)\n",
    "cv_acc"
   ]
  },
  {
   "cell_type": "markdown",
   "metadata": {},
   "source": [
    "Now we'll do the same for other classification metrics.....\"precision\""
   ]
  },
  {
   "cell_type": "code",
   "execution_count": 164,
   "metadata": {},
   "outputs": [
    {
     "data": {
      "text/plain": [
       "0.9813431013431014"
      ]
     },
     "execution_count": 164,
     "metadata": {},
     "output_type": "execute_result"
    }
   ],
   "source": [
    "# Cross-validated precision score\n",
    "cv_precision = np.mean(cross_val_score(clf,\n",
    "                                       X,\n",
    "                                       Y,\n",
    "                                       cv=5, # 5-fold cross-validation\n",
    "                                       scoring=\"precision\")) # precision as scoring\n",
    "cv_precision"
   ]
  },
  {
   "cell_type": "code",
   "execution_count": 165,
   "metadata": {},
   "outputs": [
    {
     "data": {
      "text/plain": [
       "0.983551912568306"
      ]
     },
     "execution_count": 165,
     "metadata": {},
     "output_type": "execute_result"
    }
   ],
   "source": [
    "# Cross-validated recall score\n",
    "cv_recall = np.mean(cross_val_score(clf,\n",
    "                                    X,\n",
    "                                    Y,\n",
    "                                    cv=5, # 5-fold cross-validation\n",
    "                                    scoring=\"recall\")) # recall as scoring\n",
    "cv_recall"
   ]
  },
  {
   "cell_type": "code",
   "execution_count": 166,
   "metadata": {},
   "outputs": [
    {
     "data": {
      "text/plain": [
       "0.9867725956506108"
      ]
     },
     "execution_count": 166,
     "metadata": {},
     "output_type": "execute_result"
    }
   ],
   "source": [
    "# Cross-validated F1 score\n",
    "cv_f1 = np.mean(cross_val_score(clf,\n",
    "                                X,\n",
    "                                Y,\n",
    "                                cv=5, # 5-fold cross-validation\n",
    "                                scoring=\"f1\")) # f1 as scoring\n",
    "cv_f1"
   ]
  },
  {
   "cell_type": "code",
   "execution_count": 167,
   "metadata": {},
   "outputs": [
    {
     "data": {
      "image/png": "[encoded data removed]",
      "text/plain": [
       "<Figure size 432x288 with 1 Axes>"
      ]
     },
     "metadata": {},
     "output_type": "display_data"
    }
   ],
   "source": [
    "# Visualizing cross-validated metrics\n",
    "cv_metrics = pd.DataFrame({\"Accuracy\": cv_acc,\n",
    "                            \"Precision\": cv_precision,\n",
    "                            \"Recall\": cv_recall,\n",
    "                            \"F1\": cv_f1},\n",
    "                          index=[0])\n",
    "cv_metrics.T.plot.bar(title=\"Cross-Validated Metrics\", legend=False);"
   ]
  },
  {
   "cell_type": "code",
   "execution_count": null,
   "metadata": {},
   "outputs": [],
   "source": []
  },
  {
   "cell_type": "code",
   "execution_count": null,
   "metadata": {},
   "outputs": [],
   "source": []
  }
 ],
 "metadata": {
  "kernelspec": {
   "display_name": "Python 3",
   "language": "python",
   "name": "python3"
  },
  "language_info": {
   "codemirror_mode": {
    "name": "ipython",
    "version": 3
   },
   "file_extension": ".py",
   "mimetype": "text/x-python",
   "name": "python",
   "nbconvert_exporter": "python",
   "pygments_lexer": "ipython3",
   "version": "3.8.5"
  }
 },
 "nbformat": 4,
 "nbformat_minor": 5
}
